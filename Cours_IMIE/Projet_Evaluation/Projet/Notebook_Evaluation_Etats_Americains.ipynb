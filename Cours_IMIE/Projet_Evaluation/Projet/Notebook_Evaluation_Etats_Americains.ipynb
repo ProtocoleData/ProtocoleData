{
 "cells": [
  {
   "cell_type": "code",
   "execution_count": 22,
   "metadata": {},
   "outputs": [],
   "source": [
    "# import des librairies \n",
    "import numpy as np\n",
    "import matplotlib.pyplot as plt\n",
    "import pandas as pd\n",
    "import re as re\n",
    "# import pdfminer\n",
    "from collections import Counter\n",
    "import seaborn as sns\n",
    "\n",
    "\n",
    "# Import de librairies pour TextMining \n",
    "## possible qu'il faille importer avec pip ou dans anaconda des librairies\n",
    "\n",
    "import re\n",
    "import nltk\n",
    "import heapq\n",
    "import nltk\n",
    "# nltk.download('punkt')\n",
    "from nltk import word_tokenize,sent_tokenize\n",
    "from nltk.tokenize import WhitespaceTokenizer\n",
    "from nltk.data import load\n",
    "from nltk.tokenize.treebank import TreebankWordTokenizer\n"
   ]
  },
  {
   "cell_type": "code",
   "execution_count": 23,
   "metadata": {},
   "outputs": [],
   "source": [
    "\n",
    "# Importer le dataset\n",
    "# dataset = pd.read_csv('Etats_Americains.csv')\n",
    "\n",
    "dataset = pd.read_excel('Etats_Americains.xlsx', sheet_name='etats_americains')"
   ]
  },
  {
   "cell_type": "code",
   "execution_count": 20,
   "metadata": {},
   "outputs": [
    {
     "data": {
      "text/plain": [
       "(51, 9)"
      ]
     },
     "execution_count": 20,
     "metadata": {},
     "output_type": "execute_result"
    }
   ],
   "source": [
    "#Rapide résumé du dataframe: nombre de lignes et nombre de colonnes \n",
    "dataset.shape\n",
    "\n"
   ]
  },
  {
   "cell_type": "code",
   "execution_count": 21,
   "metadata": {},
   "outputs": [
    {
     "data": {
      "text/plain": [
       "['Etat',\n",
       " 'Population_totale',\n",
       " 'Immigration_domestique_nette',\n",
       " 'Américains_migrants_avec_letranger',\n",
       " 'Immigration_internationale_nette',\n",
       " 'Taux_de_naissance',\n",
       " 'Taux_mortalité',\n",
       " 'Pop_inf_65ans',\n",
       " 'Pop_sup65ans']"
      ]
     },
     "execution_count": 21,
     "metadata": {},
     "output_type": "execute_result"
    }
   ],
   "source": [
    "# Connaitre le nom des colonnes\n",
    "dataset.columns\n",
    "\n",
    "list(dataset.columns.values)"
   ]
  },
  {
   "cell_type": "code",
   "execution_count": 24,
   "metadata": {},
   "outputs": [
    {
     "data": {
      "text/html": [
       "<div>\n",
       "<style scoped>\n",
       "    .dataframe tbody tr th:only-of-type {\n",
       "        vertical-align: middle;\n",
       "    }\n",
       "\n",
       "    .dataframe tbody tr th {\n",
       "        vertical-align: top;\n",
       "    }\n",
       "\n",
       "    .dataframe thead th {\n",
       "        text-align: right;\n",
       "    }\n",
       "</style>\n",
       "<table border=\"1\" class=\"dataframe\">\n",
       "  <thead>\n",
       "    <tr style=\"text-align: right;\">\n",
       "      <th></th>\n",
       "      <th>Etat</th>\n",
       "      <th>Population_totale</th>\n",
       "      <th>Immigration_domestique_nette</th>\n",
       "      <th>Américains_migrants_avec_letranger</th>\n",
       "      <th>Immigration_internationale_nette</th>\n",
       "      <th>Taux_de_naissance</th>\n",
       "      <th>Taux_mortalité</th>\n",
       "      <th>Pop_inf_65ans</th>\n",
       "      <th>Pop_sup65ans</th>\n",
       "    </tr>\n",
       "  </thead>\n",
       "  <tbody>\n",
       "    <tr>\n",
       "      <th>0</th>\n",
       "      <td>Alabama</td>\n",
       "      <td>4464356</td>\n",
       "      <td>-1.784356</td>\n",
       "      <td>-0.021952</td>\n",
       "      <td>0.689685</td>\n",
       "      <td>14.407229</td>\n",
       "      <td>10.284126</td>\n",
       "      <td>869.212939</td>\n",
       "      <td>130.787061</td>\n",
       "    </tr>\n",
       "    <tr>\n",
       "      <th>1</th>\n",
       "      <td>Alaska</td>\n",
       "      <td>634892</td>\n",
       "      <td>-1.718402</td>\n",
       "      <td>-0.239411</td>\n",
       "      <td>2.094844</td>\n",
       "      <td>15.952319</td>\n",
       "      <td>4.644884</td>\n",
       "      <td>941.949182</td>\n",
       "      <td>58.050818</td>\n",
       "    </tr>\n",
       "    <tr>\n",
       "      <th>2</th>\n",
       "      <td>Arizona</td>\n",
       "      <td>5307331</td>\n",
       "      <td>14.250666</td>\n",
       "      <td>-0.033915</td>\n",
       "      <td>4.294814</td>\n",
       "      <td>15.882748</td>\n",
       "      <td>7.766050</td>\n",
       "      <td>869.535365</td>\n",
       "      <td>130.464635</td>\n",
       "    </tr>\n",
       "    <tr>\n",
       "      <th>3</th>\n",
       "      <td>Arkansas</td>\n",
       "      <td>2692090</td>\n",
       "      <td>0.358086</td>\n",
       "      <td>-0.013373</td>\n",
       "      <td>1.069429</td>\n",
       "      <td>14.349075</td>\n",
       "      <td>10.507078</td>\n",
       "      <td>861.061480</td>\n",
       "      <td>138.938520</td>\n",
       "    </tr>\n",
       "    <tr>\n",
       "      <th>4</th>\n",
       "      <td>California</td>\n",
       "      <td>34501130</td>\n",
       "      <td>-2.014398</td>\n",
       "      <td>-0.043912</td>\n",
       "      <td>7.879191</td>\n",
       "      <td>15.371931</td>\n",
       "      <td>6.715519</td>\n",
       "      <td>894.028746</td>\n",
       "      <td>105.971254</td>\n",
       "    </tr>\n",
       "  </tbody>\n",
       "</table>\n",
       "</div>"
      ],
      "text/plain": [
       "         Etat  Population_totale  Immigration_domestique_nette  \\\n",
       "0     Alabama            4464356                     -1.784356   \n",
       "1      Alaska             634892                     -1.718402   \n",
       "2     Arizona            5307331                     14.250666   \n",
       "3    Arkansas            2692090                      0.358086   \n",
       "4  California           34501130                     -2.014398   \n",
       "\n",
       "   Américains_migrants_avec_letranger  Immigration_internationale_nette  \\\n",
       "0                           -0.021952                          0.689685   \n",
       "1                           -0.239411                          2.094844   \n",
       "2                           -0.033915                          4.294814   \n",
       "3                           -0.013373                          1.069429   \n",
       "4                           -0.043912                          7.879191   \n",
       "\n",
       "   Taux_de_naissance  Taux_mortalité  Pop_inf_65ans  Pop_sup65ans  \n",
       "0          14.407229       10.284126     869.212939    130.787061  \n",
       "1          15.952319        4.644884     941.949182     58.050818  \n",
       "2          15.882748        7.766050     869.535365    130.464635  \n",
       "3          14.349075       10.507078     861.061480    138.938520  \n",
       "4          15.371931        6.715519     894.028746    105.971254  "
      ]
     },
     "execution_count": 24,
     "metadata": {},
     "output_type": "execute_result"
    }
   ],
   "source": [
    "# Visualiser les premières lignes\n",
    "dataset.head()"
   ]
  },
  {
   "cell_type": "code",
   "execution_count": 25,
   "metadata": {},
   "outputs": [
    {
     "data": {
      "text/plain": [
       "Etat                                   object\n",
       "Population_totale                       int64\n",
       "Immigration_domestique_nette          float64\n",
       "Américains_migrants_avec_letranger    float64\n",
       "Immigration_internationale_nette      float64\n",
       "Taux_de_naissance                     float64\n",
       "Taux_mortalité                        float64\n",
       "Pop_inf_65ans                         float64\n",
       "Pop_sup65ans                          float64\n",
       "dtype: object"
      ]
     },
     "execution_count": 25,
     "metadata": {},
     "output_type": "execute_result"
    }
   ],
   "source": [
    "# Type des colonnes\n",
    "dataset.dtypes"
   ]
  },
  {
   "cell_type": "code",
   "execution_count": 26,
   "metadata": {},
   "outputs": [
    {
     "data": {
      "text/html": [
       "<div>\n",
       "<style scoped>\n",
       "    .dataframe tbody tr th:only-of-type {\n",
       "        vertical-align: middle;\n",
       "    }\n",
       "\n",
       "    .dataframe tbody tr th {\n",
       "        vertical-align: top;\n",
       "    }\n",
       "\n",
       "    .dataframe thead th {\n",
       "        text-align: right;\n",
       "    }\n",
       "</style>\n",
       "<table border=\"1\" class=\"dataframe\">\n",
       "  <thead>\n",
       "    <tr style=\"text-align: right;\">\n",
       "      <th></th>\n",
       "      <th>Etat</th>\n",
       "      <th>Population_totale</th>\n",
       "      <th>Immigration_domestique_nette</th>\n",
       "      <th>Américains_migrants_avec_letranger</th>\n",
       "      <th>Immigration_internationale_nette</th>\n",
       "      <th>Taux_de_naissance</th>\n",
       "      <th>Taux_mortalité</th>\n",
       "      <th>Pop_inf_65ans</th>\n",
       "      <th>Pop_sup65ans</th>\n",
       "    </tr>\n",
       "  </thead>\n",
       "  <tbody>\n",
       "    <tr>\n",
       "      <th>0</th>\n",
       "      <td>Alabama</td>\n",
       "      <td>4464356</td>\n",
       "      <td>-1.784356</td>\n",
       "      <td>-0.021952</td>\n",
       "      <td>0.689685</td>\n",
       "      <td>14.407229</td>\n",
       "      <td>10.284126</td>\n",
       "      <td>869.212939</td>\n",
       "      <td>130.787061</td>\n",
       "    </tr>\n",
       "    <tr>\n",
       "      <th>1</th>\n",
       "      <td>Alaska</td>\n",
       "      <td>634892</td>\n",
       "      <td>-1.718402</td>\n",
       "      <td>-0.239411</td>\n",
       "      <td>2.094844</td>\n",
       "      <td>15.952319</td>\n",
       "      <td>4.644884</td>\n",
       "      <td>941.949182</td>\n",
       "      <td>58.050818</td>\n",
       "    </tr>\n",
       "    <tr>\n",
       "      <th>2</th>\n",
       "      <td>Arizona</td>\n",
       "      <td>5307331</td>\n",
       "      <td>14.250666</td>\n",
       "      <td>-0.033915</td>\n",
       "      <td>4.294814</td>\n",
       "      <td>15.882748</td>\n",
       "      <td>7.766050</td>\n",
       "      <td>869.535365</td>\n",
       "      <td>130.464635</td>\n",
       "    </tr>\n",
       "    <tr>\n",
       "      <th>3</th>\n",
       "      <td>Arkansas</td>\n",
       "      <td>2692090</td>\n",
       "      <td>0.358086</td>\n",
       "      <td>-0.013373</td>\n",
       "      <td>1.069429</td>\n",
       "      <td>14.349075</td>\n",
       "      <td>10.507078</td>\n",
       "      <td>861.061480</td>\n",
       "      <td>138.938520</td>\n",
       "    </tr>\n",
       "    <tr>\n",
       "      <th>4</th>\n",
       "      <td>California</td>\n",
       "      <td>34501130</td>\n",
       "      <td>-2.014398</td>\n",
       "      <td>-0.043912</td>\n",
       "      <td>7.879191</td>\n",
       "      <td>15.371931</td>\n",
       "      <td>6.715519</td>\n",
       "      <td>894.028746</td>\n",
       "      <td>105.971254</td>\n",
       "    </tr>\n",
       "    <tr>\n",
       "      <th>5</th>\n",
       "      <td>Colorado</td>\n",
       "      <td>4417714</td>\n",
       "      <td>9.317941</td>\n",
       "      <td>-0.057269</td>\n",
       "      <td>3.574473</td>\n",
       "      <td>14.568168</td>\n",
       "      <td>6.263420</td>\n",
       "      <td>903.517521</td>\n",
       "      <td>96.482479</td>\n",
       "    </tr>\n",
       "    <tr>\n",
       "      <th>6</th>\n",
       "      <td>Connecticut</td>\n",
       "      <td>3425074</td>\n",
       "      <td>-2.365496</td>\n",
       "      <td>-0.017518</td>\n",
       "      <td>3.495983</td>\n",
       "      <td>12.524693</td>\n",
       "      <td>8.998346</td>\n",
       "      <td>862.638880</td>\n",
       "      <td>137.361120</td>\n",
       "    </tr>\n",
       "    <tr>\n",
       "      <th>7</th>\n",
       "      <td>Delaware</td>\n",
       "      <td>796165</td>\n",
       "      <td>5.393354</td>\n",
       "      <td>-0.040193</td>\n",
       "      <td>2.123932</td>\n",
       "      <td>14.014683</td>\n",
       "      <td>8.793403</td>\n",
       "      <td>869.446660</td>\n",
       "      <td>130.553340</td>\n",
       "    </tr>\n",
       "    <tr>\n",
       "      <th>8</th>\n",
       "      <td>District of Columbia</td>\n",
       "      <td>571822</td>\n",
       "      <td>-7.771649</td>\n",
       "      <td>-0.073449</td>\n",
       "      <td>5.727307</td>\n",
       "      <td>14.327885</td>\n",
       "      <td>10.763839</td>\n",
       "      <td>880.753101</td>\n",
       "      <td>119.246899</td>\n",
       "    </tr>\n",
       "    <tr>\n",
       "      <th>9</th>\n",
       "      <td>Florida</td>\n",
       "      <td>16396515</td>\n",
       "      <td>12.521136</td>\n",
       "      <td>-0.034702</td>\n",
       "      <td>5.763359</td>\n",
       "      <td>12.543824</td>\n",
       "      <td>10.128311</td>\n",
       "      <td>826.277840</td>\n",
       "      <td>173.722160</td>\n",
       "    </tr>\n",
       "  </tbody>\n",
       "</table>\n",
       "</div>"
      ],
      "text/plain": [
       "                   Etat  Population_totale  Immigration_domestique_nette  \\\n",
       "0               Alabama            4464356                     -1.784356   \n",
       "1                Alaska             634892                     -1.718402   \n",
       "2               Arizona            5307331                     14.250666   \n",
       "3              Arkansas            2692090                      0.358086   \n",
       "4            California           34501130                     -2.014398   \n",
       "5              Colorado            4417714                      9.317941   \n",
       "6           Connecticut            3425074                     -2.365496   \n",
       "7              Delaware             796165                      5.393354   \n",
       "8  District of Columbia             571822                     -7.771649   \n",
       "9               Florida           16396515                     12.521136   \n",
       "\n",
       "   Américains_migrants_avec_letranger  Immigration_internationale_nette  \\\n",
       "0                           -0.021952                          0.689685   \n",
       "1                           -0.239411                          2.094844   \n",
       "2                           -0.033915                          4.294814   \n",
       "3                           -0.013373                          1.069429   \n",
       "4                           -0.043912                          7.879191   \n",
       "5                           -0.057269                          3.574473   \n",
       "6                           -0.017518                          3.495983   \n",
       "7                           -0.040193                          2.123932   \n",
       "8                           -0.073449                          5.727307   \n",
       "9                           -0.034702                          5.763359   \n",
       "\n",
       "   Taux_de_naissance  Taux_mortalité  Pop_inf_65ans  Pop_sup65ans  \n",
       "0          14.407229       10.284126     869.212939    130.787061  \n",
       "1          15.952319        4.644884     941.949182     58.050818  \n",
       "2          15.882748        7.766050     869.535365    130.464635  \n",
       "3          14.349075       10.507078     861.061480    138.938520  \n",
       "4          15.371931        6.715519     894.028746    105.971254  \n",
       "5          14.568168        6.263420     903.517521     96.482479  \n",
       "6          12.524693        8.998346     862.638880    137.361120  \n",
       "7          14.014683        8.793403     869.446660    130.553340  \n",
       "8          14.327885       10.763839     880.753101    119.246899  \n",
       "9          12.543824       10.128311     826.277840    173.722160  "
      ]
     },
     "execution_count": 26,
     "metadata": {},
     "output_type": "execute_result"
    }
   ],
   "source": [
    "# Visualiser échantillon de données\n",
    "dataset.head(10)"
   ]
  },
  {
   "cell_type": "code",
   "execution_count": 28,
   "metadata": {},
   "outputs": [],
   "source": [
    "#IMPORT DES LIBRAIRIES\n",
    "import numpy as np\n",
    "import matplotlib.pyplot as mplt\n",
    "import pandas as pd\n",
    "import seaborn as sbrn\n",
    "import statsmodels as stat\n",
    "\n",
    "from sklearn.model_selection import train_test_split\n",
    "from sklearn.preprocessing import StandardScaler\n",
    "from sklearn.tree import DecisionTreeClassifier"
   ]
  },
  {
   "cell_type": "code",
   "execution_count": 29,
   "metadata": {},
   "outputs": [
    {
     "name": "stdout",
     "output_type": "stream",
     "text": [
      "(51, 9)\n",
      "         Etat  Population_totale  Immigration_domestique_nette  \\\n",
      "0     Alabama            4464356                     -1.784356   \n",
      "1      Alaska             634892                     -1.718402   \n",
      "2     Arizona            5307331                     14.250666   \n",
      "3    Arkansas            2692090                      0.358086   \n",
      "4  California           34501130                     -2.014398   \n",
      "\n",
      "   Américains_migrants_avec_letranger  Immigration_internationale_nette  \\\n",
      "0                           -0.021952                          0.689685   \n",
      "1                           -0.239411                          2.094844   \n",
      "2                           -0.033915                          4.294814   \n",
      "3                           -0.013373                          1.069429   \n",
      "4                           -0.043912                          7.879191   \n",
      "\n",
      "   Taux_de_naissance  Taux_mortalité  Pop_inf_65ans  Pop_sup65ans  \n",
      "0          14.407229       10.284126     869.212939    130.787061  \n",
      "1          15.952319        4.644884     941.949182     58.050818  \n",
      "2          15.882748        7.766050     869.535365    130.464635  \n",
      "3          14.349075       10.507078     861.061480    138.938520  \n",
      "4          15.371931        6.715519     894.028746    105.971254  \n",
      "Index(['Etat', 'Population_totale', 'Immigration_domestique_nette',\n",
      "       'Américains_migrants_avec_letranger',\n",
      "       'Immigration_internationale_nette', 'Taux_de_naissance',\n",
      "       'Taux_mortalité', 'Pop_inf_65ans', 'Pop_sup65ans'],\n",
      "      dtype='object')\n"
     ]
    }
   ],
   "source": [
    "# Construction des X et Y, la target\n",
    "X = dataset.iloc[:, [2, 3]].values\n",
    "y = dataset.iloc[:, 4].values\n",
    "\n",
    "# Apprehension du jeu de données\n",
    "print(dataset.shape)\n",
    "print(dataset.head(5))\n",
    "print(dataset.columns)"
   ]
  },
  {
   "cell_type": "code",
   "execution_count": 30,
   "metadata": {},
   "outputs": [
    {
     "data": {
      "text/plain": [
       "<matplotlib.axes._subplots.AxesSubplot at 0x2167184d240>"
      ]
     },
     "execution_count": 30,
     "metadata": {},
     "output_type": "execute_result"
    },
    {
     "data": {
      "image/png": "[encoded data removed]",
      "text/plain": [
       "<Figure size 432x288 with 2 Axes>"
      ]
     },
     "metadata": {
      "needs_background": "light"
     },
     "output_type": "display_data"
    }
   ],
   "source": [
    "# Corrélation entre les données\n",
    "corr = dataset.corr()\n",
    "sns.heatmap(corr)"
   ]
  },
  {
   "cell_type": "code",
   "execution_count": 31,
   "metadata": {},
   "outputs": [],
   "source": [
    "# Modification du jeu de données\n",
    "## Choix des données ayant une grande corrélation\n",
    "\n",
    "data_pop  = dataset.drop(['Immigration_domestique_nette', 'Américains_migrants_avec_letranger','Immigration_internationale_nette'], axis=1)\n",
    "data_migrant  = dataset.drop(['Taux_de_naissance', 'Taux_mortalité','Pop_inf_65ans', 'Pop_sup65ans'], axis=1)\n",
    "data_etat  = dataset.drop(['Immigration_domestique_nette', 'Américains_migrants_avec_letranger','Immigration_internationale_nette','Taux_de_naissance', 'Taux_mortalité','Pop_inf_65ans', 'Pop_sup65ans'], axis=1)\n",
    "\n",
    "\n",
    "dataset = data_pop"
   ]
  },
  {
   "cell_type": "code",
   "execution_count": 32,
   "metadata": {},
   "outputs": [],
   "source": [
    "\n",
    "# removing null values to avoid errors  \n",
    "dataset.dropna(inplace = True)  \n",
    "\n",
    "# percentile list \n",
    "perc =[.20, .40, .60, .80] \n",
    "\n",
    "# list of dtypes to include \n",
    "include =['object', 'float', 'int64'] \n",
    "\n",
    "# calling describe method \n",
    "description = dataset.describe(percentiles = perc, include = include) "
   ]
  },
  {
   "cell_type": "code",
   "execution_count": 13,
   "metadata": {},
   "outputs": [
    {
     "name": "stdout",
     "output_type": "stream",
     "text": [
      "            Etat  Population_totale  Taux_de_naissance  Taux_mortalité  \\\n",
      "count         51       5.100000e+01          51.000000       51.000000   \n",
      "unique        51                NaN                NaN             NaN   \n",
      "top     New York                NaN                NaN             NaN   \n",
      "freq           1                NaN                NaN             NaN   \n",
      "mean         NaN       5.584253e+06          13.864436        8.732639   \n",
      "std          NaN       6.263147e+06           1.735674        1.389106   \n",
      "min          NaN       4.944230e+05          10.313445        4.644884   \n",
      "20%          NaN       1.259181e+06          12.543824        7.697252   \n",
      "40%          NaN       2.858029e+06          13.627164        8.654809   \n",
      "50%          NaN       4.063011e+06          13.938746        8.903040   \n",
      "60%          NaN       4.972294e+06          14.164426        9.193188   \n",
      "80%          NaN       8.186268e+06          14.874741        9.789612   \n",
      "max          NaN       3.450113e+07          20.405862       11.895671   \n",
      "\n",
      "        Pop_inf_65ans  Pop_sup65ans  \n",
      "count       51.000000     51.000000  \n",
      "unique            NaN           NaN  \n",
      "top               NaN           NaN  \n",
      "freq              NaN           NaN  \n",
      "mean       874.882913    125.117087  \n",
      "std         18.494279     18.494279  \n",
      "min        826.277840     58.050818  \n",
      "20%        864.921625    113.277457  \n",
      "40%        869.446660    122.037327  \n",
      "50%        872.745487    127.254513  \n",
      "60%        877.962673    130.553340  \n",
      "80%        886.722543    135.078375  \n",
      "max        941.949182    173.722160  \n"
     ]
    },
    {
     "data": {
      "image/png": "[encoded data removed]",
      "text/plain": [
       "<Figure size 432x288 with 2 Axes>"
      ]
     },
     "metadata": {
      "needs_background": "light"
     },
     "output_type": "display_data"
    }
   ],
   "source": [
    "# Corrélation entre les données\n",
    "corr = dataset.corr()\n",
    "sns.heatmap(corr)\n",
    "\n",
    "print(description)"
   ]
  },
  {
   "cell_type": "code",
   "execution_count": 14,
   "metadata": {},
   "outputs": [
    {
     "data": {
      "text/plain": [
       "<matplotlib.axes._subplots.AxesSubplot at 0x21670deb208>"
      ]
     },
     "execution_count": 14,
     "metadata": {},
     "output_type": "execute_result"
    },
    {
     "data": {
      "image/png": "[encoded data removed]",
      "text/plain": [
       "<Figure size 432x288 with 1 Axes>"
      ]
     },
     "metadata": {
      "needs_background": "light"
     },
     "output_type": "display_data"
    }
   ],
   "source": [
    "# Boxplot Population Totale\n",
    "import matplotlib.pyplot as plt\n",
    "dataset.boxplot()\n",
    "\n"
   ]
  },
  {
   "cell_type": "code",
   "execution_count": 15,
   "metadata": {},
   "outputs": [
    {
     "data": {
      "text/plain": [
       "array([[<matplotlib.axes._subplots.AxesSubplot object at 0x0000021670EAC240>,\n",
       "        <matplotlib.axes._subplots.AxesSubplot object at 0x0000021670ED6BE0>],\n",
       "       [<matplotlib.axes._subplots.AxesSubplot object at 0x0000021670F01EF0>,\n",
       "        <matplotlib.axes._subplots.AxesSubplot object at 0x0000021670F34240>],\n",
       "       [<matplotlib.axes._subplots.AxesSubplot object at 0x0000021670F5C550>,\n",
       "        <matplotlib.axes._subplots.AxesSubplot object at 0x0000021670F5C588>]],\n",
       "      dtype=object)"
      ]
     },
     "execution_count": 15,
     "metadata": {},
     "output_type": "execute_result"
    },
    {
     "data": {
      "image/png": "[encoded data removed]",
      "text/plain": [
       "<Figure size 432x288 with 6 Axes>"
      ]
     },
     "metadata": {
      "needs_background": "light"
     },
     "output_type": "display_data"
    }
   ],
   "source": [
    "dataset.hist()"
   ]
  },
  {
   "cell_type": "code",
   "execution_count": 33,
   "metadata": {
    "scrolled": false
   },
   "outputs": [
    {
     "name": "stdout",
     "output_type": "stream",
     "text": [
      "[[<matplotlib.axes._subplots.AxesSubplot object at 0x00000216718F5A90>\n",
      "  <matplotlib.axes._subplots.AxesSubplot object at 0x00000216728E8898>\n",
      "  <matplotlib.axes._subplots.AxesSubplot object at 0x0000021672911BA8>\n",
      "  <matplotlib.axes._subplots.AxesSubplot object at 0x000002167293AEB8>\n",
      "  <matplotlib.axes._subplots.AxesSubplot object at 0x000002167296B208>]\n",
      " [<matplotlib.axes._subplots.AxesSubplot object at 0x000002167296B240>\n",
      "  <matplotlib.axes._subplots.AxesSubplot object at 0x00000216729BF828>\n",
      "  <matplotlib.axes._subplots.AxesSubplot object at 0x00000216729E8B38>\n",
      "  <matplotlib.axes._subplots.AxesSubplot object at 0x0000021672A11E48>\n",
      "  <matplotlib.axes._subplots.AxesSubplot object at 0x0000021672A45198>]\n",
      " [<matplotlib.axes._subplots.AxesSubplot object at 0x0000021672A6C4A8>\n",
      "  <matplotlib.axes._subplots.AxesSubplot object at 0x0000021672A967B8>\n",
      "  <matplotlib.axes._subplots.AxesSubplot object at 0x0000021672ABFAC8>\n",
      "  <matplotlib.axes._subplots.AxesSubplot object at 0x0000021672AE8DD8>\n",
      "  <matplotlib.axes._subplots.AxesSubplot object at 0x0000021672B1B128>]\n",
      " [<matplotlib.axes._subplots.AxesSubplot object at 0x0000021672B44438>\n",
      "  <matplotlib.axes._subplots.AxesSubplot object at 0x0000021672B6F748>\n",
      "  <matplotlib.axes._subplots.AxesSubplot object at 0x0000021672B98A58>\n",
      "  <matplotlib.axes._subplots.AxesSubplot object at 0x0000021672BC3D68>\n",
      "  <matplotlib.axes._subplots.AxesSubplot object at 0x0000021672BF5390>]\n",
      " [<matplotlib.axes._subplots.AxesSubplot object at 0x0000021672C1BA20>\n",
      "  <matplotlib.axes._subplots.AxesSubplot object at 0x0000021672C4C0F0>\n",
      "  <matplotlib.axes._subplots.AxesSubplot object at 0x00000216715555F8>\n",
      "  <matplotlib.axes._subplots.AxesSubplot object at 0x00000216715292B0>\n",
      "  <matplotlib.axes._subplots.AxesSubplot object at 0x00000216707CDBE0>]]\n"
     ]
    },
    {
     "data": {
      "image/png": "[encoded data removed]",
      "text/plain": [
       "<Figure size 432x432 with 25 Axes>"
      ]
     },
     "metadata": {
      "needs_background": "light"
     },
     "output_type": "display_data"
    }
   ],
   "source": [
    "# scatter_matrix\n",
    "## Matrice de dispersion\n",
    "from pandas.plotting import scatter_matrix\n",
    "print(scatter_matrix(dataset, alpha=0.5, figsize=(6, 6), diagonal='kde'))"
   ]
  },
  {
   "cell_type": "code",
   "execution_count": 34,
   "metadata": {},
   "outputs": [
    {
     "name": "stdout",
     "output_type": "stream",
     "text": [
      "                    Etat  Population_totale  Taux_de_naissance  \\\n",
      "0                Alabama            4464356          14.407229   \n",
      "1                 Alaska             634892          15.952319   \n",
      "2                Arizona            5307331          15.882748   \n",
      "3               Arkansas            2692090          14.349075   \n",
      "4             California           34501130          15.371931   \n",
      "5               Colorado            4417714          14.568168   \n",
      "6            Connecticut            3425074          12.524693   \n",
      "7               Delaware             796165          14.014683   \n",
      "8   District of Columbia             571822          14.327885   \n",
      "9                Florida           16396515          12.543824   \n",
      "10               Georgia            8383915          16.156295   \n",
      "11                Hawaii            1224398          15.437791   \n",
      "12                 Idaho            1321006          14.999175   \n",
      "13              Illinois           12482301          14.874741   \n",
      "14               Indiana            6114745          14.076957   \n",
      "15                  Iowa            2923179          12.826447   \n",
      "16                Kansas            2694641          14.534775   \n",
      "17              Kentucky            4065556          13.627164   \n",
      "18             Louisiana            4465430          15.692778   \n",
      "19                 Maine            1286670          10.313445   \n",
      "20              Maryland            5375156          14.164426   \n",
      "21         Massachusetts            6379304          12.718159   \n",
      "22              Michigan            9990817          13.626814   \n",
      "23             Minnesota            4972294          13.361841   \n",
      "24           Mississippi            2858029          15.984093   \n",
      "25              Missouri            5629707          13.504966   \n",
      "26               Montana             904433          11.841673   \n",
      "27              Nebraska            1713235          14.184277   \n",
      "28                Nevada            2106074          14.220773   \n",
      "29         New Hampshire            1259181          11.331175   \n",
      "30            New Jersey            8484431          13.094219   \n",
      "31            New Mexico            1829146          14.795429   \n",
      "32              New York           19011378          13.680018   \n",
      "33        North Carolina            8186268          14.846203   \n",
      "34          North Dakota             634448          11.986798   \n",
      "35                  Ohio           11373541          13.875714   \n",
      "36              Oklahoma            3460097          13.962325   \n",
      "37                Oregon            3472867          12.969976   \n",
      "38          Pennsylvania           12287150          11.767660   \n",
      "39          Rhode Island            1058920          11.681713   \n",
      "40        South Carolina            4063011          14.094473   \n",
      "41          South Dakota             756600          13.634681   \n",
      "42             Tennessee            5740021          13.894897   \n",
      "43                 Texas           21325018          16.856117   \n",
      "44                  Utah            2269789          20.405862   \n",
      "45               Vermont             613090          10.319855   \n",
      "46              Virginia            7187734          13.938746   \n",
      "47            Washington            5987973          13.416727   \n",
      "48         West Virginia            1801916          11.341261   \n",
      "49             Wisconsin            5401906          12.704960   \n",
      "50               Wyoming             494423          12.398291   \n",
      "\n",
      "    Taux_mortalité  Pop_inf_65ans  Pop_sup65ans  \n",
      "0        10.284126     869.212939    130.787061  \n",
      "1         4.644884     941.949182     58.050818  \n",
      "2         7.766050     869.535365    130.464635  \n",
      "3        10.507078     861.061480    138.938520  \n",
      "4         6.715519     894.028746    105.971254  \n",
      "5         6.263420     903.517521     96.482479  \n",
      "6         8.998346     862.638880    137.361120  \n",
      "7         8.793403     869.446660    130.553340  \n",
      "8        10.763839     880.753101    119.246899  \n",
      "9        10.128311     826.277840    173.722160  \n",
      "10        7.752941     904.368186     95.631814  \n",
      "11        6.874399     866.178318    133.821682  \n",
      "12        7.337590     887.182950    112.817050  \n",
      "13        8.724754     880.263663    119.736337  \n",
      "14        9.193188     876.777854    123.222146  \n",
      "15        9.697661     851.892751    148.107249  \n",
      "16        9.345586     868.323832    131.676168  \n",
      "17        9.887946     875.512968    124.487032  \n",
      "18        9.372894     884.160092    115.839908  \n",
      "19        9.789612     856.329129    143.670871  \n",
      "20        8.297434     886.722543    113.277457  \n",
      "21        9.018852     865.259439    134.740561  \n",
      "22        8.878553     877.618217    122.381783  \n",
      "23        7.697252     880.001464    119.998536  \n",
      "24       10.207034     879.313681    120.686319  \n",
      "25        9.884706     866.010966    133.989034  \n",
      "26        9.083039     865.501369    134.498631  \n",
      "27        8.903040     864.921625    135.078375  \n",
      "28        7.167839     888.643989    111.356011  \n",
      "29        7.834457     880.584285    119.415715  \n",
      "30        8.543767     868.759260    131.240740  \n",
      "31        7.496394     881.445221    118.554779  \n",
      "32        8.440524     871.352408    128.647592  \n",
      "33        8.945590     879.637461    120.362539  \n",
      "34        9.389264     852.224296    147.775704  \n",
      "35        9.753779     867.457373    132.542627  \n",
      "36       10.158386     867.789545    132.210455  \n",
      "37        8.654809     872.745487    127.254513  \n",
      "38       10.786798     844.702881    155.297119  \n",
      "39        9.649454     856.184603    143.815397  \n",
      "40        9.257420     877.962673    122.037327  \n",
      "41        9.450172     857.513878    142.486122  \n",
      "42        9.778710     875.877806    124.122194  \n",
      "43        7.066254     900.658325     99.341675  \n",
      "44        5.519456     913.764231     86.235769  \n",
      "45        8.524034     872.193316    127.806684  \n",
      "46        7.977062     887.648458    112.351542  \n",
      "47        7.461790     888.003503    111.996497  \n",
      "48       11.895671     847.076112    152.923888  \n",
      "49        8.751726     869.767819    130.232181  \n",
      "50        8.049787     882.274894    117.725106  \n"
     ]
    },
    {
     "ename": "TypeError",
     "evalue": "'<' not supported between instances of 'str' and 'int'",
     "output_type": "error",
     "traceback": [
      "\u001b[1;31m---------------------------------------------------------------------------\u001b[0m",
      "\u001b[1;31mTypeError\u001b[0m                                 Traceback (most recent call last)",
      "\u001b[1;32m<ipython-input-34-b24b06a82639>\u001b[0m in \u001b[0;36m<module>\u001b[1;34m()\u001b[0m\n\u001b[0;32m      4\u001b[0m \u001b[1;31m# contingency table\u001b[0m\u001b[1;33m\u001b[0m\u001b[1;33m\u001b[0m\u001b[0m\n\u001b[0;32m      5\u001b[0m \u001b[0mprint\u001b[0m\u001b[1;33m(\u001b[0m\u001b[0mdataset\u001b[0m\u001b[1;33m)\u001b[0m\u001b[1;33m\u001b[0m\u001b[0m\n\u001b[1;32m----> 6\u001b[1;33m \u001b[0mstat\u001b[0m\u001b[1;33m,\u001b[0m \u001b[0mp\u001b[0m\u001b[1;33m,\u001b[0m \u001b[0mdof\u001b[0m\u001b[1;33m,\u001b[0m \u001b[0mexpected\u001b[0m \u001b[1;33m=\u001b[0m \u001b[0mchi2_contingency\u001b[0m\u001b[1;33m(\u001b[0m\u001b[0mdataset\u001b[0m\u001b[1;33m)\u001b[0m\u001b[1;33m\u001b[0m\u001b[0m\n\u001b[0m\u001b[0;32m      7\u001b[0m \u001b[1;31m#print('dof=%d' % dof)\u001b[0m\u001b[1;33m\u001b[0m\u001b[1;33m\u001b[0m\u001b[0m\n\u001b[0;32m      8\u001b[0m \u001b[0mprint\u001b[0m\u001b[1;33m(\u001b[0m\u001b[0mexpected\u001b[0m\u001b[1;33m)\u001b[0m\u001b[1;33m\u001b[0m\u001b[0m\n",
      "\u001b[1;32mD:\\Program_Files\\Anaconda\\lib\\site-packages\\scipy\\stats\\contingency.py\u001b[0m in \u001b[0;36mchi2_contingency\u001b[1;34m(observed, correction, lambda_)\u001b[0m\n\u001b[0;32m    240\u001b[0m     \"\"\"\n\u001b[0;32m    241\u001b[0m     \u001b[0mobserved\u001b[0m \u001b[1;33m=\u001b[0m \u001b[0mnp\u001b[0m\u001b[1;33m.\u001b[0m\u001b[0masarray\u001b[0m\u001b[1;33m(\u001b[0m\u001b[0mobserved\u001b[0m\u001b[1;33m)\u001b[0m\u001b[1;33m\u001b[0m\u001b[0m\n\u001b[1;32m--> 242\u001b[1;33m     \u001b[1;32mif\u001b[0m \u001b[0mnp\u001b[0m\u001b[1;33m.\u001b[0m\u001b[0many\u001b[0m\u001b[1;33m(\u001b[0m\u001b[0mobserved\u001b[0m \u001b[1;33m<\u001b[0m \u001b[1;36m0\u001b[0m\u001b[1;33m)\u001b[0m\u001b[1;33m:\u001b[0m\u001b[1;33m\u001b[0m\u001b[0m\n\u001b[0m\u001b[0;32m    243\u001b[0m         \u001b[1;32mraise\u001b[0m \u001b[0mValueError\u001b[0m\u001b[1;33m(\u001b[0m\u001b[1;34m\"All values in `observed` must be nonnegative.\"\u001b[0m\u001b[1;33m)\u001b[0m\u001b[1;33m\u001b[0m\u001b[0m\n\u001b[0;32m    244\u001b[0m     \u001b[1;32mif\u001b[0m \u001b[0mobserved\u001b[0m\u001b[1;33m.\u001b[0m\u001b[0msize\u001b[0m \u001b[1;33m==\u001b[0m \u001b[1;36m0\u001b[0m\u001b[1;33m:\u001b[0m\u001b[1;33m\u001b[0m\u001b[0m\n",
      "\u001b[1;31mTypeError\u001b[0m: '<' not supported between instances of 'str' and 'int'"
     ]
    }
   ],
   "source": [
    "# Calcul du Chi2\n",
    "from scipy.stats import chi2_contingency\n",
    "from scipy.stats import chi2\n",
    "# contingency table\n",
    "print(dataset)\n",
    "stat, p, dof, expected = chi2_contingency(dataset)\n",
    "#print('dof=%d' % dof)\n",
    "print(expected)\n",
    "# interpret test-statistic\n",
    "prob = 0.95\n",
    "critical = chi2.ppf(prob, dof)\n",
    "print('probability=%.3f, critical=%.3f, stat=%.3f' % (prob, critical, stat))\n",
    "if abs(stat) >= critical:\n",
    "    print('Dependent (reject H0)')\n",
    "else:\n",
    "    print('Independent (fail to reject H0)')\n",
    "# interpret p-value\n",
    "alpha = 1.0 - prob\n",
    "print('significance=%.3f, p=%.3f' % (alpha, p))\n",
    "if p <= alpha:\n",
    "    print('Dependent (reject H0)')\n",
    "else:\n",
    "    print('Independent (fail to reject H0)')"
   ]
  },
  {
   "cell_type": "code",
   "execution_count": null,
   "metadata": {},
   "outputs": [],
   "source": []
  },
  {
   "cell_type": "code",
   "execution_count": null,
   "metadata": {},
   "outputs": [],
   "source": []
  }
 ],
 "metadata": {
  "kernelspec": {
   "display_name": "Python 3",
   "language": "python",
   "name": "python3"
  },
  "language_info": {
   "codemirror_mode": {
    "name": "ipython",
    "version": 3
   },
   "file_extension": ".py",
   "mimetype": "text/x-python",
   "name": "python",
   "nbconvert_exporter": "python",
   "pygments_lexer": "ipython3",
   "version": "3.7.0"
  }
 },
 "nbformat": 4,
 "nbformat_minor": 2
}
