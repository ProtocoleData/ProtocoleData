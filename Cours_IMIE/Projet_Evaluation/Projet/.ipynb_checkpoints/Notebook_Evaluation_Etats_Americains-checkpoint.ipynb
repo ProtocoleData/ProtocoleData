{
 "cells": [
  {
   "cell_type": "code",
   "execution_count": 13,
   "metadata": {},
   "outputs": [],
   "source": [
    "# import des librairies \n",
    "import numpy as np\n",
    "import matplotlib.pyplot as plt\n",
    "import pandas as pd\n",
    "import re as re\n",
    "import pdfminer\n",
    "from collections import Counter\n",
    "\n",
    "\n",
    "\n",
    "# Import de librairies pour TextMining \n",
    "## possible qu'il faille importer avec pip ou dans anaconda des librairies\n",
    "\n",
    "import re\n",
    "import nltk\n",
    "import heapq\n",
    "import nltk\n",
    "# nltk.download('punkt')\n",
    "from nltk import word_tokenize,sent_tokenize\n",
    "from nltk.tokenize import WhitespaceTokenizer\n",
    "from nltk.data import load\n",
    "from nltk.tokenize.treebank import TreebankWordTokenizer\n"
   ]
  },
  {
   "cell_type": "code",
   "execution_count": 14,
   "metadata": {},
   "outputs": [],
   "source": [
    "\n",
    "# Importer le dataset\n",
    "dataset = pd.read_csv('Etats_Americains.csv')"
   ]
  },
  {
   "cell_type": "code",
   "execution_count": 15,
   "metadata": {},
   "outputs": [
    {
     "data": {
      "text/plain": [
       "(51, 1)"
      ]
     },
     "execution_count": 15,
     "metadata": {},
     "output_type": "execute_result"
    }
   ],
   "source": [
    "#Rapide résumé du dataframe: nombre de colonnes et nombre de lignes\n",
    "dataset.shape\n",
    "\n"
   ]
  },
  {
   "cell_type": "code",
   "execution_count": 16,
   "metadata": {},
   "outputs": [
    {
     "data": {
      "text/plain": [
       "['Etat;Population_totale;Immigration_domestique_nette;Américains_migrants_avec_letranger;Immigration_internationale_nette;Taux_de_naissance;Taux_mortalité;Pop_inf_65ans;Pop_sup65ans']"
      ]
     },
     "execution_count": 16,
     "metadata": {},
     "output_type": "execute_result"
    }
   ],
   "source": [
    "# Connaitre le nom des colonnes\n",
    "dataset.columns\n",
    "\n",
    "list(dataset.columns.values)"
   ]
  },
  {
   "cell_type": "code",
   "execution_count": 17,
   "metadata": {},
   "outputs": [
    {
     "data": {
      "text/html": [
       "<div>\n",
       "<style scoped>\n",
       "    .dataframe tbody tr th:only-of-type {\n",
       "        vertical-align: middle;\n",
       "    }\n",
       "\n",
       "    .dataframe tbody tr th {\n",
       "        vertical-align: top;\n",
       "    }\n",
       "\n",
       "    .dataframe thead th {\n",
       "        text-align: right;\n",
       "    }\n",
       "</style>\n",
       "<table border=\"1\" class=\"dataframe\">\n",
       "  <thead>\n",
       "    <tr style=\"text-align: right;\">\n",
       "      <th></th>\n",
       "      <th></th>\n",
       "      <th></th>\n",
       "      <th></th>\n",
       "      <th></th>\n",
       "      <th></th>\n",
       "      <th></th>\n",
       "      <th>Etat;Population_totale;Immigration_domestique_nette;Américains_migrants_avec_letranger;Immigration_internationale_nette;Taux_de_naissance;Taux_mortalité;Pop_inf_65ans;Pop_sup65ans</th>\n",
       "    </tr>\n",
       "  </thead>\n",
       "  <tbody>\n",
       "    <tr>\n",
       "      <th>Alabama;4464356;-1</th>\n",
       "      <th>78;-0</th>\n",
       "      <th>02;0</th>\n",
       "      <th>69;14</th>\n",
       "      <th>41;10</th>\n",
       "      <th>28;869</th>\n",
       "      <th>21;130</th>\n",
       "      <td>79.0</td>\n",
       "    </tr>\n",
       "    <tr>\n",
       "      <th>Alaska;634892;-1</th>\n",
       "      <th>72;-0</th>\n",
       "      <th>24;2</th>\n",
       "      <th>09;15</th>\n",
       "      <th>95;4</th>\n",
       "      <th>64;941</th>\n",
       "      <th>95;58</th>\n",
       "      <td>5.0</td>\n",
       "    </tr>\n",
       "    <tr>\n",
       "      <th>Arizona;5307331;14</th>\n",
       "      <th>25;-0</th>\n",
       "      <th>03;4</th>\n",
       "      <th>29;15</th>\n",
       "      <th>88;7</th>\n",
       "      <th>77;869</th>\n",
       "      <th>54;130</th>\n",
       "      <td>46.0</td>\n",
       "    </tr>\n",
       "    <tr>\n",
       "      <th>Arkansas;2692090;0</th>\n",
       "      <th>36;-0</th>\n",
       "      <th>01;1</th>\n",
       "      <th>07;14</th>\n",
       "      <th>35;10</th>\n",
       "      <th>51;861</th>\n",
       "      <th>06;138</th>\n",
       "      <td>94.0</td>\n",
       "    </tr>\n",
       "    <tr>\n",
       "      <th>California;34501130;-2</th>\n",
       "      <th>01;-0</th>\n",
       "      <th>04;7</th>\n",
       "      <th>88;15</th>\n",
       "      <th>37;6</th>\n",
       "      <th>72;894</th>\n",
       "      <th>03;105</th>\n",
       "      <td>97.0</td>\n",
       "    </tr>\n",
       "  </tbody>\n",
       "</table>\n",
       "</div>"
      ],
      "text/plain": [
       "                                                             Etat;Population_totale;Immigration_domestique_nette;Américains_migrants_avec_letranger;Immigration_internationale_nette;Taux_de_naissance;Taux_mortalité;Pop_inf_65ans;Pop_sup65ans\n",
       "Alabama;4464356;-1     78;-0 02;0 69;14 41;10 28;869 21;130                                               79.0                                                                                                                                  \n",
       "Alaska;634892;-1       72;-0 24;2 09;15 95;4  64;941 95;58                                                 5.0                                                                                                                                  \n",
       "Arizona;5307331;14     25;-0 03;4 29;15 88;7  77;869 54;130                                               46.0                                                                                                                                  \n",
       "Arkansas;2692090;0     36;-0 01;1 07;14 35;10 51;861 06;138                                               94.0                                                                                                                                  \n",
       "California;34501130;-2 01;-0 04;7 88;15 37;6  72;894 03;105                                               97.0                                                                                                                                  "
      ]
     },
     "execution_count": 17,
     "metadata": {},
     "output_type": "execute_result"
    }
   ],
   "source": [
    "# Visualiser les premières lignes\n",
    "dataset.head()"
   ]
  },
  {
   "cell_type": "code",
   "execution_count": 18,
   "metadata": {},
   "outputs": [
    {
     "data": {
      "text/plain": [
       "Etat;Population_totale;Immigration_domestique_nette;Américains_migrants_avec_letranger;Immigration_internationale_nette;Taux_de_naissance;Taux_mortalité;Pop_inf_65ans;Pop_sup65ans    float64\n",
       "dtype: object"
      ]
     },
     "execution_count": 18,
     "metadata": {},
     "output_type": "execute_result"
    }
   ],
   "source": [
    "# Type des colonnes\n",
    "dataset.dtypes"
   ]
  },
  {
   "cell_type": "code",
   "execution_count": null,
   "metadata": {},
   "outputs": [],
   "source": []
  },
  {
   "cell_type": "code",
   "execution_count": null,
   "metadata": {},
   "outputs": [],
   "source": []
  }
 ],
 "metadata": {
  "kernelspec": {
   "display_name": "Python 3",
   "language": "python",
   "name": "python3"
  },
  "language_info": {
   "codemirror_mode": {
    "name": "ipython",
    "version": 3
   },
   "file_extension": ".py",
   "mimetype": "text/x-python",
   "name": "python",
   "nbconvert_exporter": "python",
   "pygments_lexer": "ipython3",
   "version": "3.7.1"
  }
 },
 "nbformat": 4,
 "nbformat_minor": 2
}
