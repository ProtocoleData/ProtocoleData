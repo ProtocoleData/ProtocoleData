{
 "cells": [
  {
   "cell_type": "code",
   "execution_count": 1,
   "metadata": {},
   "outputs": [],
   "source": [
    "#IMPORT DES LIBRAIRIES\n",
    "import numpy as np\n",
    "import matplotlib.pyplot as mplt\n",
    "import pandas as pd\n",
    "import seaborn as sbrn\n",
    "import statsmodels as stat\n",
    "\n",
    "from sklearn.model_selection import train_test_split\n",
    "from sklearn.preprocessing import StandardScaler\n",
    "from sklearn.tree import DecisionTreeClassifier"
   ]
  },
  {
   "cell_type": "code",
   "execution_count": 2,
   "metadata": {},
   "outputs": [
    {
     "name": "stdout",
     "output_type": "stream",
     "text": [
      "(51, 9)\n",
      "         Etat  Population_totale  Immigration_domestique_nette  \\\n",
      "0     Alabama            4464356                     -1.784356   \n",
      "1      Alaska             634892                     -1.718402   \n",
      "2     Arizona            5307331                     14.250666   \n",
      "3    Arkansas            2692090                      0.358086   \n",
      "4  California           34501130                     -2.014398   \n",
      "\n",
      "   Américains_migrants_avec_letranger  Immigration_internationale_nette  \\\n",
      "0                           -0.021952                          0.689685   \n",
      "1                           -0.239411                          2.094844   \n",
      "2                           -0.033915                          4.294814   \n",
      "3                           -0.013373                          1.069429   \n",
      "4                           -0.043912                          7.879191   \n",
      "\n",
      "   Taux_de_naissance  Taux_mortalité  Pop_inf_65ans  Pop_sup65ans  \n",
      "0          14.407229       10.284126     869.212939    130.787061  \n",
      "1          15.952319        4.644884     941.949182     58.050818  \n",
      "2          15.882748        7.766050     869.535365    130.464635  \n",
      "3          14.349075       10.507078     861.061480    138.938520  \n",
      "4          15.371931        6.715519     894.028746    105.971254  \n",
      "Index(['Etat', 'Population_totale', 'Immigration_domestique_nette',\n",
      "       'Américains_migrants_avec_letranger',\n",
      "       'Immigration_internationale_nette', 'Taux_de_naissance',\n",
      "       'Taux_mortalité', 'Pop_inf_65ans', 'Pop_sup65ans'],\n",
      "      dtype='object')\n",
      "[[-1.78435591e+00 -2.19516544e-02]\n",
      " [-1.71840250e+00 -2.39410797e-01]\n",
      " [ 1.42506657e+01 -3.39153522e-02]\n",
      " [ 3.58086097e-01 -1.33725098e-02]\n",
      " [-2.01439779e+00 -4.39116052e-02]\n",
      " [ 9.31794136e+00 -5.72694384e-02]\n",
      " [-2.36549634e+00 -1.75178697e-02]\n",
      " [ 5.39335439e+00 -4.01926736e-02]\n",
      " [-7.77164922e+00 -7.34494301e-02]\n",
      " [ 1.25211364e+01 -3.47024962e-02]\n",
      " [ 7.06829685e+00 -7.14463350e-02]\n",
      " [-2.49918736e+00 -2.93205314e-01]\n",
      " [ 6.40193913e+00 -2.64949591e-02]\n",
      " [-7.27510096e+00 -1.62630271e-02]\n",
      " [-1.99468661e+00 -9.81234704e-04]\n",
      " [-5.68182790e+00 -6.84186634e-04]\n",
      " [-6.36299975e+00 -5.23260798e-02]\n",
      " [ 1.51516791e-01 -5.80486408e-02]\n",
      " [-7.98467337e+00 -3.53829306e-02]\n",
      " [ 6.61630410e+00 -2.40932018e-02]\n",
      " [ 2.18021579e+00 -5.52542103e-02]\n",
      " [-3.25286269e+00 -5.32973503e-03]\n",
      " [-2.70198123e+00 -1.60147063e-03]\n",
      " [ 6.54024078e-01 -2.81560181e-03]\n",
      " [-3.11473397e+00 -4.75852414e-02]\n",
      " [-2.52233376e-02 -2.18483839e-02]\n",
      " [-1.73368287e+00 -2.98529576e-02]\n",
      " [-6.55776937e+00 -3.73562296e-02]\n",
      " [ 2.73494664e+01 -3.13379302e-02]\n",
      " [ 1.08046421e+01 -4.76500201e-03]\n",
      " [-3.63760398e+00 -8.95758360e-03]\n",
      " [-5.46921897e+00 -4.97499926e-02]\n",
      " [-1.07764414e+01 -9.46801436e-03]\n",
      " [ 5.42616000e+00 -1.00656367e-01]\n",
      " [-1.34825864e+01 -7.72324919e-02]\n",
      " [-3.69040741e+00 -4.39616826e-03]\n",
      " [-3.21378273e+00 -6.18479771e-02]\n",
      " [ 5.15798618e+00 -3.74330488e-03]\n",
      " [-1.92086855e+00 -2.44157514e-03]\n",
      " [ 3.65466702e+00 -2.26646017e-02]\n",
      " [ 4.01795614e+00 -7.75287096e-02]\n",
      " [-3.43774782e+00 -3.43642612e-02]\n",
      " [ 1.50417568e+00 -1.84668314e-02]\n",
      " [ 2.94189670e+00 -4.57209462e-02]\n",
      " [-5.72916690e+00 -1.80633530e-02]\n",
      " [ 2.78099463e+00 -1.63108190e-03]\n",
      " [ 2.54586494e+00 -1.68620597e-01]\n",
      " [ 3.67319626e+00 -7.41486309e-02]\n",
      " [-2.46515376e+00 -5.54964826e-04]\n",
      " [ 5.50546418e-01 -9.25599224e-04]\n",
      " [-4.12804421e+00 -5.46091100e-02]]\n"
     ]
    }
   ],
   "source": [
    "# Import du dataset\n",
    "dataset = pd.read_excel('Etats_Americains.xlsx', sheet_name='etats_americains')\n",
    "\n",
    "# Construction des X et Y, la target\n",
    "X = dataset.iloc[:, [2, 3]].values\n",
    "y = dataset.iloc[:, 4].values\n",
    "\n",
    "# Apprehension du jeu de données\n",
    "print(dataset.shape)\n",
    "print(dataset.head(5))\n",
    "print(dataset.columns)\n",
    "\n",
    "print(X)"
   ]
  },
  {
   "cell_type": "code",
   "execution_count": 3,
   "metadata": {},
   "outputs": [],
   "source": [
    "# Creation des echantillons d'apprentissage, de test\n",
    "X_train, X_test, y_train, y_test = train_test_split(X, y, test_size = 0.30, random_state = 0)"
   ]
  },
  {
   "cell_type": "code",
   "execution_count": 4,
   "metadata": {},
   "outputs": [],
   "source": [
    "# Mise à l'echelle\n",
    "stdSc = StandardScaler()\n",
    "X_train = stdSc.fit_transform(X_train)\n",
    "X_test = stdSc.transform(X_test)"
   ]
  },
  {
   "cell_type": "code",
   "execution_count": 5,
   "metadata": {},
   "outputs": [
    {
     "ename": "ValueError",
     "evalue": "Unknown label type: 'continuous'",
     "output_type": "error",
     "traceback": [
      "\u001b[1;31m---------------------------------------------------------------------------\u001b[0m",
      "\u001b[1;31mValueError\u001b[0m                                Traceback (most recent call last)",
      "\u001b[1;32m<ipython-input-5-46d6626197da>\u001b[0m in \u001b[0;36m<module>\u001b[1;34m()\u001b[0m\n\u001b[0;32m      2\u001b[0m \u001b[0mclassification\u001b[0m  \u001b[1;33m=\u001b[0m \u001b[0mDecisionTreeClassifier\u001b[0m\u001b[1;33m(\u001b[0m\u001b[0mcriterion\u001b[0m\u001b[1;33m=\u001b[0m\u001b[1;34m'entropy'\u001b[0m\u001b[1;33m,\u001b[0m\u001b[0mrandom_state\u001b[0m\u001b[1;33m=\u001b[0m\u001b[1;36m0\u001b[0m\u001b[1;33m)\u001b[0m\u001b[1;33m\u001b[0m\u001b[0m\n\u001b[0;32m      3\u001b[0m \u001b[1;31m#élaguage de l'arbre à réaliser ici ex ,min_samples_leaf=10\u001b[0m\u001b[1;33m\u001b[0m\u001b[1;33m\u001b[0m\u001b[0m\n\u001b[1;32m----> 4\u001b[1;33m \u001b[0mclassification\u001b[0m\u001b[1;33m.\u001b[0m\u001b[0mfit\u001b[0m\u001b[1;33m(\u001b[0m\u001b[0mX_train\u001b[0m\u001b[1;33m,\u001b[0m\u001b[0my_train\u001b[0m\u001b[1;33m)\u001b[0m\u001b[1;33m\u001b[0m\u001b[0m\n\u001b[0m",
      "\u001b[1;32mD:\\Program_Files\\Anaconda\\lib\\site-packages\\sklearn\\tree\\tree.py\u001b[0m in \u001b[0;36mfit\u001b[1;34m(self, X, y, sample_weight, check_input, X_idx_sorted)\u001b[0m\n\u001b[0;32m    788\u001b[0m             \u001b[0msample_weight\u001b[0m\u001b[1;33m=\u001b[0m\u001b[0msample_weight\u001b[0m\u001b[1;33m,\u001b[0m\u001b[1;33m\u001b[0m\u001b[0m\n\u001b[0;32m    789\u001b[0m             \u001b[0mcheck_input\u001b[0m\u001b[1;33m=\u001b[0m\u001b[0mcheck_input\u001b[0m\u001b[1;33m,\u001b[0m\u001b[1;33m\u001b[0m\u001b[0m\n\u001b[1;32m--> 790\u001b[1;33m             X_idx_sorted=X_idx_sorted)\n\u001b[0m\u001b[0;32m    791\u001b[0m         \u001b[1;32mreturn\u001b[0m \u001b[0mself\u001b[0m\u001b[1;33m\u001b[0m\u001b[0m\n\u001b[0;32m    792\u001b[0m \u001b[1;33m\u001b[0m\u001b[0m\n",
      "\u001b[1;32mD:\\Program_Files\\Anaconda\\lib\\site-packages\\sklearn\\tree\\tree.py\u001b[0m in \u001b[0;36mfit\u001b[1;34m(self, X, y, sample_weight, check_input, X_idx_sorted)\u001b[0m\n\u001b[0;32m    138\u001b[0m \u001b[1;33m\u001b[0m\u001b[0m\n\u001b[0;32m    139\u001b[0m         \u001b[1;32mif\u001b[0m \u001b[0mis_classification\u001b[0m\u001b[1;33m:\u001b[0m\u001b[1;33m\u001b[0m\u001b[0m\n\u001b[1;32m--> 140\u001b[1;33m             \u001b[0mcheck_classification_targets\u001b[0m\u001b[1;33m(\u001b[0m\u001b[0my\u001b[0m\u001b[1;33m)\u001b[0m\u001b[1;33m\u001b[0m\u001b[0m\n\u001b[0m\u001b[0;32m    141\u001b[0m             \u001b[0my\u001b[0m \u001b[1;33m=\u001b[0m \u001b[0mnp\u001b[0m\u001b[1;33m.\u001b[0m\u001b[0mcopy\u001b[0m\u001b[1;33m(\u001b[0m\u001b[0my\u001b[0m\u001b[1;33m)\u001b[0m\u001b[1;33m\u001b[0m\u001b[0m\n\u001b[0;32m    142\u001b[0m \u001b[1;33m\u001b[0m\u001b[0m\n",
      "\u001b[1;32mD:\\Program_Files\\Anaconda\\lib\\site-packages\\sklearn\\utils\\multiclass.py\u001b[0m in \u001b[0;36mcheck_classification_targets\u001b[1;34m(y)\u001b[0m\n\u001b[0;32m    169\u001b[0m     if y_type not in ['binary', 'multiclass', 'multiclass-multioutput',\n\u001b[0;32m    170\u001b[0m                       'multilabel-indicator', 'multilabel-sequences']:\n\u001b[1;32m--> 171\u001b[1;33m         \u001b[1;32mraise\u001b[0m \u001b[0mValueError\u001b[0m\u001b[1;33m(\u001b[0m\u001b[1;34m\"Unknown label type: %r\"\u001b[0m \u001b[1;33m%\u001b[0m \u001b[0my_type\u001b[0m\u001b[1;33m)\u001b[0m\u001b[1;33m\u001b[0m\u001b[0m\n\u001b[0m\u001b[0;32m    172\u001b[0m \u001b[1;33m\u001b[0m\u001b[0m\n\u001b[0;32m    173\u001b[0m \u001b[1;33m\u001b[0m\u001b[0m\n",
      "\u001b[1;31mValueError\u001b[0m: Unknown label type: 'continuous'"
     ]
    }
   ],
   "source": [
    "# Construction du modele d'arbre de décision\n",
    "classification  = DecisionTreeClassifier(criterion='entropy',random_state=0) \n",
    "#élaguage de l'arbre à réaliser ici ex ,min_samples_leaf=10\n",
    "classification.fit(X_train,y_train)"
   ]
  },
  {
   "cell_type": "code",
   "execution_count": null,
   "metadata": {},
   "outputs": [],
   "source": [
    "# Mise en place de prediction \n",
    "y_prediction = classification.predict(X_test)"
   ]
  },
  {
   "cell_type": "code",
   "execution_count": null,
   "metadata": {},
   "outputs": [],
   "source": [
    "# Matrice de confusion\n",
    "from sklearn.metrics import confusion_matrix\n",
    "mat_conf = confusion_matrix(y_test, y_prediction)\n",
    "print (mat_conf)"
   ]
  },
  {
   "cell_type": "code",
   "execution_count": null,
   "metadata": {},
   "outputs": [],
   "source": [
    "print(dataset.columns)"
   ]
  },
  {
   "cell_type": "code",
   "execution_count": null,
   "metadata": {},
   "outputs": [],
   "source": [
    "# Visualisation de l'arbre : permet de visualiser la bonne performance du modele / les erreurs sur l'apprentissage\n",
    "from matplotlib.colors import ListedColormap\n",
    "X_set, y_set = X_train, y_train\n",
    "X1, X2 = np.meshgrid(np.arange(start = X_set[:, 0].min() - 1, stop = X_set[:, 0].max()+ 1, step = 0.01),\n",
    "                     np.arange(start = X_set[:, 1].min() - 1, stop = X_set[:, 1].max()+ 1, step = 0.01))\n",
    "mplt.contour(X1, X2, classification.predict(np.array([X1.ravel(), X2.ravel()]).T).reshape(X1.shape),\n",
    "            alpha = 0.75, mat_confap = ListedColormap(('red','green')))\n",
    "mplt.xlim(X1.min(), X1.max())\n",
    "mplt.ylim(X2.min(), X2.max())\n",
    "for i, j in enumerate(np.unique(y_set)):\n",
    "        mplt.scatter(X_set[y_set == j, 0], X_set[y_set == j, 1],\n",
    "                    c = ListedColormap(('red','black'))(i), label = j)\n",
    "mplt.title ('Classification de l arbre de decision (Training set)')\n",
    "mplt.xlabel ('Age')\n",
    "mplt.ylabel('Salaire estime')\n",
    "mplt.legend()\n",
    "mplt.show()"
   ]
  },
  {
   "cell_type": "code",
   "execution_count": null,
   "metadata": {},
   "outputs": [],
   "source": [
    "# Visualisation de l'arbre : visualiser sur le jeu de données Test\n",
    "from matplotlib.colors import ListedColormap\n",
    "X_set, y_set = X_test, y_test\n",
    "X1, X2 = np.meshgrid(np.arange(start = X_set[:, 0].min() - 1, stop = X_set[:, 0].max()+ 1, step = 0.01),\n",
    "                     np.arange(start = X_set[:, 1].min() - 1, stop = X_set[:, 1].max()+ 1, step = 0.01))\n",
    "mplt.contour(X1, X2, classification.predict(np.array([X1.ravel(), X2.ravel()]).T).reshape(X1.shape),\n",
    "            alpha = 0.75, mat_confap = ListedColormap(('red','green')))\n",
    "mplt.xlim(X1.min(), X1.max())\n",
    "mplt.ylim(X2.min(), X2.max())\n",
    "for i, j in enumerate(np.unique(y_set)):\n",
    "        mplt.scatter(X_set[y_set == j, 0], X_set[y_set == j, 1],\n",
    "                    c = ListedColormap(('red','black'))(i), label = j)\n",
    "mplt.title ('Classification de l arbre de decision (Test set)')\n",
    "mplt.xlabel ('Age')\n",
    "mplt.ylabel('Salaire estime')\n",
    "mplt.legend()\n",
    "mplt.show()"
   ]
  },
  {
   "cell_type": "code",
   "execution_count": null,
   "metadata": {},
   "outputs": [],
   "source": [
    "# Visualisation de l'arbre de decision\n",
    "import graphviz\n",
    "from sklearn import tree\n",
    "with open(\"test.dot\", 'w') as f:\n",
    "    f = tree.export_graphviz(classification, out_file=f)\n",
    "\n",
    "\n",
    "dot_data = tree.export_graphviz(classification, out_file=None,\n",
    "            #feature_names=dataset.feature_names,\n",
    "            #class_names=dataset.target_names,\n",
    "            filled=True, rounded=True,\n",
    "            special_characters=True)\n",
    "graph = graphviz.Source(dot_data)\n",
    "# impression de l'arbre dans Python mais pas pratique\n",
    "graph\n",
    "# impression de l'arbre dans un pdf / plus pratique - visible dans le repertoire sur lequel on travaille\n",
    "graph.render(\"Test Viz\")\n"
   ]
  },
  {
   "cell_type": "code",
   "execution_count": null,
   "metadata": {},
   "outputs": [],
   "source": [
    "# Importation de metrics - utilisé pour les mesures de performances\n",
    "from sklearn import metrics\n",
    "\n",
    "# AUC\n",
    "AUC = metrics.roc_auc_score(y_test, y_prediction)\n",
    "print ('AUC', AUC)"
   ]
  },
  {
   "cell_type": "code",
   "execution_count": null,
   "metadata": {},
   "outputs": [],
   "source": [
    "#taux de succès\n",
    "acc = metrics.accuracy_score(y_test,y_prediction)\n",
    "print('Taux de succès : ',acc)\n",
    "\n",
    "#taux d'erreur\n",
    "err = 1.0 - acc\n",
    "print('Taux d erreur : ',err)"
   ]
  },
  {
   "cell_type": "code",
   "execution_count": null,
   "metadata": {},
   "outputs": [],
   "source": []
  },
  {
   "cell_type": "code",
   "execution_count": null,
   "metadata": {},
   "outputs": [],
   "source": []
  }
 ],
 "metadata": {
  "kernelspec": {
   "display_name": "Python 3",
   "language": "python",
   "name": "python3"
  },
  "language_info": {
   "codemirror_mode": {
    "name": "ipython",
    "version": 3
   },
   "file_extension": ".py",
   "mimetype": "text/x-python",
   "name": "python",
   "nbconvert_exporter": "python",
   "pygments_lexer": "ipython3",
   "version": "3.7.0"
  }
 },
 "nbformat": 4,
 "nbformat_minor": 2
}
