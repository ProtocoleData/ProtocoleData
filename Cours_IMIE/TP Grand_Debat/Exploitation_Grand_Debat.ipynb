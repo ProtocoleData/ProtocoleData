{
 "cells": [
  {
   "cell_type": "code",
   "execution_count": null,
   "metadata": {},
   "outputs": [],
   "source": [
    "# Exploitation_Grand_Debat\n",
    "\n"
   ]
  },
  {
   "cell_type": "code",
   "execution_count": null,
   "metadata": {},
   "outputs": [],
   "source": [
    "# import des librairies \n",
    "import numpy as np\n",
    "import matplotlib.pyplot as plt\n",
    "import pandas as pd\n",
    "import re as re\n",
    "import pdfminer\n",
    "from collections import Counter\n",
    "\n",
    "\n",
    "\n",
    "# Import de librairies pour TextMining \n",
    "## possible qu'il faille importer avec pip ou dans anaconda des librairies\n",
    "\n",
    "import re\n",
    "import nltk\n",
    "import heapq\n",
    "import nltk\n",
    "nltk.download('punkt')\n",
    "from nltk import word_tokenize,sent_tokenize\n",
    "from nltk.tokenize import WhitespaceTokenizer\n",
    "from nltk.data import load\n",
    "from nltk.tokenize.treebank import TreebankWordTokenizer\n"
   ]
  },
  {
   "cell_type": "code",
   "execution_count": null,
   "metadata": {},
   "outputs": [],
   "source": [
    "# Récupération du PDF et infos\n",
    "\n",
    "mypdf = open('Rapport_Villani_accessible.pdf', mode='rb')  \n",
    "pdf_document = PyPDF2.PdfFileReader(mypdf)  \n",
    "\n",
    "## Nombre de pages\n",
    "pdf_document.numPages "
   ]
  }
 ],
 "metadata": {
  "kernelspec": {
   "display_name": "Python 3",
   "language": "python",
   "name": "python3"
  },
  "language_info": {
   "codemirror_mode": {
    "name": "ipython",
    "version": 3
   },
   "file_extension": ".py",
   "mimetype": "text/x-python",
   "name": "python",
   "nbconvert_exporter": "python",
   "pygments_lexer": "ipython3",
   "version": "3.7.1"
  }
 },
 "nbformat": 4,
 "nbformat_minor": 2
}
