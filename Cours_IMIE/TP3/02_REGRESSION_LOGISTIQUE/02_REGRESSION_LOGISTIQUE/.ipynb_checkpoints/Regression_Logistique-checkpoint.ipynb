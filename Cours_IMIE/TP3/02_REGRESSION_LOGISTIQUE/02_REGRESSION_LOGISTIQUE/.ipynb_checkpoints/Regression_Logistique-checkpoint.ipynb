{
 "cells": [
  {
   "cell_type": "code",
   "execution_count": 3,
   "metadata": {},
   "outputs": [],
   "source": [
    "# Regression Logistique\n",
    "\n",
    "# Importer les librairies\n",
    "import numpy as np\n",
    "import matplotlib.pyplot as plt\n",
    "import pandas as pd"
   ]
  },
  {
   "cell_type": "code",
   "execution_count": 4,
   "metadata": {},
   "outputs": [
    {
     "name": "stdout",
     "output_type": "stream",
     "text": [
      "(400, 5)\n"
     ]
    }
   ],
   "source": [
    "# Importer le dataset\n",
    "dataset = pd.read_csv('Social_Network_Ads.csv')\n",
    "print (dataset.shape)\n",
    "\n",
    "# creation de la matrice des variables indépendantes\n",
    "X = dataset.iloc[:, [2, 3]].values\n",
    "# creation de la matrice de la variable à predire\n",
    "y = dataset.iloc[:, -1].values\n"
   ]
  },
  {
   "cell_type": "code",
   "execution_count": 5,
   "metadata": {},
   "outputs": [],
   "source": [
    "# Diviser le dataset entre le Training set et le Test set\n",
    "from sklearn.model_selection import train_test_split\n",
    "X_train, X_test, y_train, y_test = train_test_split(X, y, test_size = 0.25, random_state = 0)"
   ]
  },
  {
   "cell_type": "code",
   "execution_count": 6,
   "metadata": {},
   "outputs": [],
   "source": [
    "# Feature Scaling : mettre à l'echelle les differentes valeurs\n",
    "from sklearn.preprocessing import StandardScaler\n",
    "sc = StandardScaler()\n",
    "X_train = sc.fit_transform(X_train)\n",
    "X_test = sc.transform(X_test)"
   ]
  },
  {
   "cell_type": "code",
   "execution_count": 7,
   "metadata": {},
   "outputs": [
    {
     "name": "stderr",
     "output_type": "stream",
     "text": [
      "D:\\Program_Files\\Anaconda\\envs\\Full_install_clean\\lib\\site-packages\\sklearn\\linear_model\\logistic.py:432: FutureWarning: Default solver will be changed to 'lbfgs' in 0.22. Specify a solver to silence this warning.\n",
      "  FutureWarning)\n"
     ]
    },
    {
     "data": {
      "text/plain": [
       "LogisticRegression(C=1.0, class_weight=None, dual=False, fit_intercept=True,\n",
       "          intercept_scaling=1, max_iter=100, multi_class='warn',\n",
       "          n_jobs=None, penalty='l2', random_state=0, solver='warn',\n",
       "          tol=0.0001, verbose=0, warm_start=False)"
      ]
     },
     "execution_count": 7,
     "metadata": {},
     "output_type": "execute_result"
    }
   ],
   "source": [
    "# Construction du modèle : fit(X,Y) apprend les paramètres du modèle à partir de données d’apprentissage\n",
    "from sklearn.linear_model import LogisticRegression\n",
    "classifier = LogisticRegression(random_state = 0)\n",
    "classifier.fit(X_train, y_train)"
   ]
  },
  {
   "cell_type": "code",
   "execution_count": 8,
   "metadata": {},
   "outputs": [],
   "source": [
    "# Faire de nouvelles prédictions\n",
    "y_pred = classifier.predict(X_test)"
   ]
  },
  {
   "cell_type": "code",
   "execution_count": 9,
   "metadata": {},
   "outputs": [],
   "source": [
    "# Matrice de confusion\n",
    "from sklearn.metrics import confusion_matrix\n",
    "cm = confusion_matrix(y_test, y_pred)"
   ]
  },
  {
   "cell_type": "code",
   "execution_count": 10,
   "metadata": {},
   "outputs": [
    {
     "name": "stderr",
     "output_type": "stream",
     "text": [
      "'c' argument looks like a single numeric RGB or RGBA sequence, which should be avoided as value-mapping will have precedence in case its length matches with 'x' & 'y'.  Please use a 2-D array with a single row if you really want to specify the same RGB or RGBA value for all points.\n",
      "'c' argument looks like a single numeric RGB or RGBA sequence, which should be avoided as value-mapping will have precedence in case its length matches with 'x' & 'y'.  Please use a 2-D array with a single row if you really want to specify the same RGB or RGBA value for all points.\n"
     ]
    },
    {
     "data": {
      "image/png": "[encoded data removed]",
      "text/plain": [
       "<Figure size 432x288 with 1 Axes>"
      ]
     },
     "metadata": {
      "needs_background": "light"
     },
     "output_type": "display_data"
    }
   ],
   "source": [
    "# Visualiser les résultats : region de prédiction + tracer de la limite entre les 2 régions\n",
    "# les points verts sont les utilisateurs qui ont realisé l'evenement et les points rouges sont les ut qui n'ont pas realise l'evt\n",
    "# possibilité de verifier les resultats sur les echantillons de test pour apprehender une 1ere idee d'over fitting\n",
    "# faut-il construire un modele non lineaire ?\n",
    "# chacun des points pixel est colorié avec le pas de 0.01\n",
    "from matplotlib.colors import ListedColormap\n",
    "X_set, y_set = X_train, y_train\n",
    "X1, X2 = np.meshgrid(np.arange(start = X_set[:, 0].min() - 1, stop = X_set[:, 0].max() + 1, step = 0.01),\n",
    "                     np.arange(start = X_set[:, 1].min() - 1, stop = X_set[:, 1].max() + 1, step = 0.01))\n",
    "plt.contourf(X1, X2, classifier.predict(np.array([X1.ravel(), X2.ravel()]).T).reshape(X1.shape),\n",
    "             alpha = 0.4, cmap = ListedColormap(('orange', 'green')))\n",
    "plt.xlim(X1.min(), X1.max())\n",
    "plt.ylim(X2.min(), X2.max())\n",
    "for i, j in enumerate(np.unique(y_set)):\n",
    "    plt.scatter(X_set[y_set == j, 0], X_set[y_set == j, 1],\n",
    "                c = ListedColormap(('orange', 'green'))(i), label = j)\n",
    "plt.title('Résultats du Training set')\n",
    "plt.xlabel('Age')\n",
    "plt.ylabel('Salaire Estimé')\n",
    "plt.legend()\n",
    "plt.show()"
   ]
  },
  {
   "cell_type": "code",
   "execution_count": 11,
   "metadata": {},
   "outputs": [
    {
     "name": "stdout",
     "output_type": "stream",
     "text": [
      "[-0.92421803]\n",
      "[[2.06169269 1.10338288]]\n",
      "0.8233333333333334\n"
     ]
    }
   ],
   "source": [
    "# Recuperer l'equation du modele\n",
    "print(classifier.intercept_)\n",
    "print(classifier.coef_)\n",
    "print(classifier.score(X_train, y_train))"
   ]
  },
  {
   "cell_type": "code",
   "execution_count": 12,
   "metadata": {},
   "outputs": [
    {
     "name": "stdout",
     "output_type": "stream",
     "text": [
      "[[65  3]\n",
      " [ 8 24]]\n"
     ]
    }
   ],
   "source": [
    "# Afficher la matrice de confusion : bien classés / mal classés\n",
    "print (cm)"
   ]
  },
  {
   "cell_type": "code",
   "execution_count": 13,
   "metadata": {},
   "outputs": [],
   "source": [
    "# Travail sur la courbe de ROC\n",
    "from sklearn.metrics import roc_curve\n",
    "\n",
    "fpr_cl = dict()\n",
    "tpr_cl = dict()\n",
    "\n",
    "y_pred = classifier.predict(X_test)\n",
    "#calcul des probas d'affectation sur ech. test\n",
    "y_proba = classifier.predict_proba(X_test)\n",
    "\n",
    "fpr_cl[\"classe 0\"], tpr_cl[\"classe 0\"], _ = roc_curve(\n",
    "    y_test == 0, y_proba[:, 0].ravel())\n",
    "fpr_cl[\"classe 1\"], tpr_cl[\"classe 1\"], _ = roc_curve(\n",
    "    y_test, y_proba[:, 1].ravel())  # y_test == 1\n",
    "\n",
    "prob_pred = np.array([y_proba[i, 1 if c else 0]\n",
    "                         for i, c in enumerate(y_pred)])\n",
    "fpr_cl[\"tout\"], tpr_cl[\"tout\"], _ = roc_curve(\n",
    "    (y_pred == y_test).ravel(), prob_pred)"
   ]
  },
  {
   "cell_type": "code",
   "execution_count": 14,
   "metadata": {},
   "outputs": [
    {
     "data": {
      "text/plain": [
       "<matplotlib.legend.Legend at 0x14aaf5429b0>"
      ]
     },
     "execution_count": 14,
     "metadata": {},
     "output_type": "execute_result"
    },
    {
     "data": {
      "image/png": "[encoded data removed]",
      "text/plain": [
       "<Figure size 432x288 with 1 Axes>"
      ]
     },
     "metadata": {
      "needs_background": "light"
     },
     "output_type": "display_data"
    }
   ],
   "source": [
    "plt.figure()\n",
    "for key in fpr_cl:\n",
    "    plt.plot(fpr_cl[key], tpr_cl[key], label=key)\n",
    "\n",
    "lw = 2\n",
    "plt.plot([0, 1], [0, 1], color='navy', lw=lw, linestyle='--')\n",
    "plt.xlim([0.0, 1.0])\n",
    "plt.ylim([0.0, 1.05])\n",
    "plt.xlabel(\"Proportion mal classée\")\n",
    "plt.ylabel(\"Proportion bien classée\")\n",
    "plt.title('ROC(s) avec predict_proba')\n",
    "plt.legend(loc=\"lower right\")"
   ]
  },
  {
   "cell_type": "code",
   "execution_count": 15,
   "metadata": {},
   "outputs": [
    {
     "name": "stdout",
     "output_type": "stream",
     "text": [
      "AUC 0.8529411764705883\n",
      "Taux de succès :  0.89\n",
      "Taux d erreur :  0.10999999999999999\n",
      "Sensibilité :  0.75\n"
     ]
    }
   ],
   "source": [
    "# Importation de metrics - utilisé pour les mesures de performances\n",
    "from sklearn import metrics\n",
    "\n",
    "# AUC\n",
    "AUC = metrics.roc_auc_score(y_test, y_pred)\n",
    "print ('AUC', AUC)\n",
    "\n",
    "#taux de succès\n",
    "acc = metrics.accuracy_score(y_test,y_pred)\n",
    "print('Taux de succès : ',acc)\n",
    "\n",
    "#taux d'erreur\n",
    "err = 1.0 - acc\n",
    "print('Taux d erreur : ',err)\n",
    "\n",
    "#sensibilité (ou rappel)\n",
    "se = metrics.recall_score(y_test,y_pred)\n",
    "print('Sensibilité : ', se) "
   ]
  },
  {
   "cell_type": "code",
   "execution_count": 16,
   "metadata": {},
   "outputs": [
    {
     "name": "stdout",
     "output_type": "stream",
     "text": [
      "[[-5.88775640e-03 -9.74010077e-09]] [-0.00510052]\n",
      "Taux de succes [0.68292683 0.63414634 0.63414634 0.65       0.65       0.65\n",
      " 0.65       0.64102564 0.64102564 0.66666667]\n",
      "Moyenne des taux de succes 0.6499937460913072\n"
     ]
    },
    {
     "name": "stderr",
     "output_type": "stream",
     "text": [
      "D:\\Program_Files\\Anaconda\\envs\\Full_install_clean\\lib\\site-packages\\sklearn\\linear_model\\logistic.py:432: FutureWarning: Default solver will be changed to 'lbfgs' in 0.22. Specify a solver to silence this warning.\n",
      "  FutureWarning)\n",
      "D:\\Program_Files\\Anaconda\\envs\\Full_install_clean\\lib\\site-packages\\sklearn\\linear_model\\logistic.py:432: FutureWarning: Default solver will be changed to 'lbfgs' in 0.22. Specify a solver to silence this warning.\n",
      "  FutureWarning)\n",
      "D:\\Program_Files\\Anaconda\\envs\\Full_install_clean\\lib\\site-packages\\sklearn\\linear_model\\logistic.py:432: FutureWarning: Default solver will be changed to 'lbfgs' in 0.22. Specify a solver to silence this warning.\n",
      "  FutureWarning)\n",
      "D:\\Program_Files\\Anaconda\\envs\\Full_install_clean\\lib\\site-packages\\sklearn\\linear_model\\logistic.py:432: FutureWarning: Default solver will be changed to 'lbfgs' in 0.22. Specify a solver to silence this warning.\n",
      "  FutureWarning)\n",
      "D:\\Program_Files\\Anaconda\\envs\\Full_install_clean\\lib\\site-packages\\sklearn\\linear_model\\logistic.py:432: FutureWarning: Default solver will be changed to 'lbfgs' in 0.22. Specify a solver to silence this warning.\n",
      "  FutureWarning)\n",
      "D:\\Program_Files\\Anaconda\\envs\\Full_install_clean\\lib\\site-packages\\sklearn\\linear_model\\logistic.py:432: FutureWarning: Default solver will be changed to 'lbfgs' in 0.22. Specify a solver to silence this warning.\n",
      "  FutureWarning)\n",
      "D:\\Program_Files\\Anaconda\\envs\\Full_install_clean\\lib\\site-packages\\sklearn\\linear_model\\logistic.py:432: FutureWarning: Default solver will be changed to 'lbfgs' in 0.22. Specify a solver to silence this warning.\n",
      "  FutureWarning)\n",
      "D:\\Program_Files\\Anaconda\\envs\\Full_install_clean\\lib\\site-packages\\sklearn\\linear_model\\logistic.py:432: FutureWarning: Default solver will be changed to 'lbfgs' in 0.22. Specify a solver to silence this warning.\n",
      "  FutureWarning)\n",
      "D:\\Program_Files\\Anaconda\\envs\\Full_install_clean\\lib\\site-packages\\sklearn\\linear_model\\logistic.py:432: FutureWarning: Default solver will be changed to 'lbfgs' in 0.22. Specify a solver to silence this warning.\n",
      "  FutureWarning)\n",
      "D:\\Program_Files\\Anaconda\\envs\\Full_install_clean\\lib\\site-packages\\sklearn\\linear_model\\logistic.py:432: FutureWarning: Default solver will be changed to 'lbfgs' in 0.22. Specify a solver to silence this warning.\n",
      "  FutureWarning)\n",
      "D:\\Program_Files\\Anaconda\\envs\\Full_install_clean\\lib\\site-packages\\sklearn\\linear_model\\logistic.py:432: FutureWarning: Default solver will be changed to 'lbfgs' in 0.22. Specify a solver to silence this warning.\n",
      "  FutureWarning)\n"
     ]
    }
   ],
   "source": [
    "# Test de validation croisée : pratique pour les petits échantillons\n",
    "\n",
    "#importer la classe LogisticRegression\n",
    "from sklearn.linear_model import LogisticRegression\n",
    "\n",
    "#création d'une instance de la classe\n",
    "lr = LogisticRegression()\n",
    "\n",
    "#exécution de l'instance sur la totalité des données (X,y)\n",
    "modele_all = lr.fit(X,y)\n",
    "\n",
    "#affichage\n",
    "print(modele_all.coef_,modele_all.intercept_)\n",
    "# [[-5.88775640e-03 -9.74010077e-09]] [-0.00510052]\n",
    "# L'équation du modèle est modifiée - utiliser la validation croisée peut rendre plus robuste l'équation sur de petits ech\n",
    "\n",
    "#utilisation du module model_selection\n",
    "from sklearn import model_selection\n",
    "\n",
    "#évaluation en validation croisée : 10 cross-validation\n",
    "succes = model_selection.cross_val_score(lr,X,y,cv=10,scoring='accuracy')\n",
    "\n",
    "#détail des itérations\n",
    "print('Taux de succes', succes) # [0.68292683 0.63414634 0.63414634 0.65 0.65 0.65 0.65 0.64102564 0.64102564 0.66666667]\n",
    "\n",
    "#moyenne des taux de succès = estimation du taux de succès en CV\n",
    "print('Moyenne des taux de succes', succes.mean()) # 0.65"
   ]
  },
  {
   "cell_type": "code",
   "execution_count": 17,
   "metadata": {},
   "outputs": [
    {
     "name": "stdout",
     "output_type": "stream",
     "text": [
      "[[-5.88775640e-03 -9.74010077e-09]] [-0.00510052]\n"
     ]
    }
   ],
   "source": [
    "print(modele_all.coef_,modele_all.intercept_)"
   ]
  },
  {
   "cell_type": "code",
   "execution_count": 18,
   "metadata": {},
   "outputs": [
    {
     "name": "stderr",
     "output_type": "stream",
     "text": [
      "D:\\Program_Files\\Anaconda\\envs\\Full_install_clean\\lib\\site-packages\\ipykernel_launcher.py:6: FutureWarning: Method .as_matrix will be removed in a future version. Use .values instead.\n",
      "  \n"
     ]
    },
    {
     "data": {
      "image/png": "[encoded data removed]",
      "text/plain": [
       "<Figure size 432x288 with 1 Axes>"
      ]
     },
     "metadata": {
      "needs_background": "light"
     },
     "output_type": "display_data"
    }
   ],
   "source": [
    "### Production de la courbe de lift\n",
    "\n",
    "#score de 'presence'\n",
    "score = y_proba[:,1] # [0.86238322 0.21334963 0.15895063 …]\n",
    "#transf. en 0/1 de Y_test\n",
    "pos = pd.get_dummies(y_test).as_matrix()\n",
    "\n",
    "#on ne récupère que la 2è colonne (indice 1)\n",
    "pos = pos[:,1]\n",
    "\n",
    "#nombre total de positif\n",
    "npos = np.sum(pos) \n",
    "\n",
    "#index pour tri selon le score croissant\n",
    "index = np.argsort(score)\n",
    "\n",
    "#inverser pour score décroissant – on s’intéresse à forte proba. en priorité\n",
    "index = index[::-1] \n",
    "\n",
    "#tri des individus (des valeurs 0/1)\n",
    "sort_pos = pos[index] \n",
    "\n",
    "#somme cumulée\n",
    "cpos = np.cumsum(sort_pos) \n",
    "\n",
    "#rappel\n",
    "rappel = cpos/npos \n",
    "\n",
    "#nb. obs ech.test\n",
    "n = y_test.shape[0]\n",
    "\n",
    "#taille de cible – séquence de valeurs de 1 à 100 avec un pas de 1\n",
    "taille = np.arange(start=1,stop=101,step=1) \n",
    "\n",
    "#passer en proportion\n",
    "taille = taille / n\n",
    "\n",
    "#graphique avec matplotlib\n",
    "import matplotlib.pyplot as plt\n",
    "#titre et en-têtes\n",
    "plt.title('Courbe de Lift / gain')\n",
    "plt.xlabel('Population')\n",
    "plt.ylabel('% evt')\n",
    "#limites en abscisse et ordonnée\n",
    "plt.xlim(0,1)\n",
    "plt.ylim(0,1)\n",
    "#astuce pour tracer la diagonale\n",
    "plt.scatter(taille,taille,marker='.',color='blue')\n",
    "#insertion du couple (taille, rappel)\n",
    "plt.scatter(taille,rappel,marker='.',color='red')\n",
    "#affichage\n",
    "plt.show()"
   ]
  },
  {
   "cell_type": "code",
   "execution_count": 52,
   "metadata": {},
   "outputs": [
    {
     "name": "stdout",
     "output_type": "stream",
     "text": [
      "i=2 0.9786537776546741 0.3146067415730337 0.0\n",
      "i=20 0.529977601865224 1.0 0.7272727272727273\n"
     ]
    },
    {
     "data": {
      "text/plain": [
       "<matplotlib.legend.Legend at 0x21353af6f98>"
      ]
     },
     "execution_count": 52,
     "metadata": {},
     "output_type": "execute_result"
    },
    {
     "data": {
      "image/png": "[encoded data removed]",
      "text/plain": [
       "<Figure size 432x288 with 1 Axes>"
      ]
     },
     "metadata": {
      "needs_background": "light"
     },
     "output_type": "display_data"
    }
   ],
   "source": [
    "# Courbe de ROC Globale\n",
    "\n",
    "from sklearn.metrics import roc_curve\n",
    "prob_pred = [y_proba[i, c] for i, c in enumerate(y_pred)]\n",
    "fpr, tpr, th = roc_curve((y_pred == y_test).ravel(), prob_pred)\n",
    "\n",
    "print(\"i=2\", th[2], tpr[2], fpr[2])\n",
    "print(\"i={0}\".format(len(th) - 2), th[-2], tpr[-2], fpr[-2])\n",
    "plt.figure()\n",
    "lw = 2\n",
    "plt.plot(fpr, tpr, color='darkorange', lw=lw, label='Courbe ROC')\n",
    "plt.plot([0, 1], [0, 1], color='navy', lw=lw, linestyle='--')\n",
    "plt.xlim([0.0, 1.0])\n",
    "plt.ylim([0.0, 1.05])\n",
    "plt.xlabel(\"Proportion mal classée\")\n",
    "plt.ylabel(\"Proportion bien classée\")\n",
    "plt.title('ROC')\n",
    "plt.legend(loc=\"lower right\")"
   ]
  },
  {
   "cell_type": "code",
   "execution_count": null,
   "metadata": {},
   "outputs": [],
   "source": []
  }
 ],
 "metadata": {
  "kernelspec": {
   "display_name": "Python 3",
   "language": "python",
   "name": "python3"
  },
  "language_info": {
   "codemirror_mode": {
    "name": "ipython",
    "version": 3
   },
   "file_extension": ".py",
   "mimetype": "text/x-python",
   "name": "python",
   "nbconvert_exporter": "python",
   "pygments_lexer": "ipython3",
   "version": "3.7.1"
  }
 },
 "nbformat": 4,
 "nbformat_minor": 2
}
