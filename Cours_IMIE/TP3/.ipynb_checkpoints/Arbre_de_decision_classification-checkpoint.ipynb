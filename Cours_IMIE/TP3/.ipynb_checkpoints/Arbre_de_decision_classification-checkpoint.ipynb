{
 "cells": [
  {
   "cell_type": "code",
   "execution_count": 1,
   "metadata": {},
   "outputs": [],
   "source": [
    "#IMPORT DES LIBRAIRIES\n",
    "import numpy as np\n",
    "import matplotlib.pyplot as mplt\n",
    "import pandas as pd\n",
    "import seaborn as sbrn\n",
    "import statsmodels as stat\n",
    "\n",
    "from sklearn.model_selection import train_test_split\n",
    "from sklearn.preprocessing import StandardScaler\n",
    "from sklearn.tree import DecisionTreeClassifier"
   ]
  },
  {
   "cell_type": "code",
   "execution_count": 2,
   "metadata": {},
   "outputs": [
    {
     "name": "stdout",
     "output_type": "stream",
     "text": [
      "(400, 5)\n",
      "    User ID  Gender   Age  EstimatedSalary  Purchased\n",
      "0  15624510    Male  19.0          19000.0          0\n",
      "1  15810944    Male  35.0          20000.0          0\n",
      "2  15668575  Female  26.0          43000.0          0\n",
      "3  15603246  Female  27.0          57000.0          0\n",
      "4  15804002    Male  19.0          76000.0          0\n",
      "Index(['User ID', 'Gender', 'Age', 'EstimatedSalary', 'Purchased'], dtype='object')\n"
     ]
    }
   ],
   "source": [
    "# Import du dataset\n",
    "dataset = pd.read_csv('Social_network_ads.csv')\n",
    "\n",
    "# Construction des X et Y, la target\n",
    "X = dataset.iloc[:, [2, 3]].values\n",
    "y = dataset.iloc[:, 4].values\n",
    "\n",
    "# Apprehension du jeu de données\n",
    "print(dataset.shape)\n",
    "print(dataset.head(5))\n",
    "print(dataset.columns)"
   ]
  },
  {
   "cell_type": "code",
   "execution_count": 3,
   "metadata": {},
   "outputs": [],
   "source": [
    "# Creation des echantillons d'apprentissage, de test\n",
    "X_train, X_test, y_train, y_test = train_test_split(X, y, test_size = 0.30, random_state = 0)"
   ]
  },
  {
   "cell_type": "code",
   "execution_count": 4,
   "metadata": {},
   "outputs": [],
   "source": [
    "# Mise à l'echelle\n",
    "stdSc = StandardScaler()\n",
    "X_train = stdSc.fit_transform(X_train)\n",
    "X_test = stdSc.transform(X_test)"
   ]
  },
  {
   "cell_type": "code",
   "execution_count": 32,
   "metadata": {},
   "outputs": [
    {
     "data": {
      "text/plain": [
       "DecisionTreeClassifier(class_weight=None, criterion='entropy', max_depth=None,\n",
       "            max_features=None, max_leaf_nodes=None,\n",
       "            min_impurity_decrease=0.0, min_impurity_split=None,\n",
       "            min_samples_leaf=1, min_samples_split=2,\n",
       "            min_weight_fraction_leaf=0.0, presort=False, random_state=0,\n",
       "            splitter='best')"
      ]
     },
     "execution_count": 32,
     "metadata": {},
     "output_type": "execute_result"
    }
   ],
   "source": [
    "# Construction du modele d'arbre de décision\n",
    "classification  = DecisionTreeClassifier(criterion='entropy',random_state=0) #élaguage de l'arbre à réaliser ici ex ,min_samples_leaf=10\n",
    "classification.fit(X_train,y_train)"
   ]
  },
  {
   "cell_type": "code",
   "execution_count": 33,
   "metadata": {},
   "outputs": [],
   "source": [
    "# Mise en place de prediction \n",
    "y_prediction = classification.predict(X_test)"
   ]
  },
  {
   "cell_type": "code",
   "execution_count": 34,
   "metadata": {},
   "outputs": [
    {
     "name": "stdout",
     "output_type": "stream",
     "text": [
      "[[70  9]\n",
      " [ 4 37]]\n"
     ]
    }
   ],
   "source": [
    "# Matrice de confusion\n",
    "from sklearn.metrics import confusion_matrix\n",
    "mat_conf = confusion_matrix(y_test, y_prediction)\n",
    "print (mat_conf)"
   ]
  },
  {
   "cell_type": "code",
   "execution_count": 35,
   "metadata": {},
   "outputs": [
    {
     "name": "stdout",
     "output_type": "stream",
     "text": [
      "Index(['User ID', 'Gender', 'Age', 'EstimatedSalary', 'Purchased'], dtype='object')\n"
     ]
    }
   ],
   "source": [
    "print(dataset.columns)"
   ]
  },
  {
   "cell_type": "code",
   "execution_count": 36,
   "metadata": {},
   "outputs": [
    {
     "name": "stderr",
     "output_type": "stream",
     "text": [
      "C:\\Users\\aleleannec\\Anaconda3\\lib\\site-packages\\matplotlib\\contour.py:1000: UserWarning: The following kwargs were not used by contour: 'mat_confap'\n",
      "  s)\n",
      "'c' argument looks like a single numeric RGB or RGBA sequence, which should be avoided as value-mapping will have precedence in case its length matches with 'x' & 'y'.  Please use a 2-D array with a single row if you really want to specify the same RGB or RGBA value for all points.\n",
      "'c' argument looks like a single numeric RGB or RGBA sequence, which should be avoided as value-mapping will have precedence in case its length matches with 'x' & 'y'.  Please use a 2-D array with a single row if you really want to specify the same RGB or RGBA value for all points.\n"
     ]
    },
    {
     "data": {
      "image/png": "[encoded data removed]",
      "text/plain": [
       "<Figure size 432x288 with 1 Axes>"
      ]
     },
     "metadata": {
      "needs_background": "light"
     },
     "output_type": "display_data"
    }
   ],
   "source": [
    "# Visualisation de l'arbre : permet de visualiser la bonne performance du modele / les erreurs sur l'apprentissage\n",
    "from matplotlib.colors import ListedColormap\n",
    "X_set, y_set = X_train, y_train\n",
    "X1, X2 = np.meshgrid(np.arange(start = X_set[:, 0].min() - 1, stop = X_set[:, 0].max()+ 1, step = 0.01),\n",
    "                     np.arange(start = X_set[:, 1].min() - 1, stop = X_set[:, 1].max()+ 1, step = 0.01))\n",
    "mplt.contour(X1, X2, classification.predict(np.array([X1.ravel(), X2.ravel()]).T).reshape(X1.shape),\n",
    "            alpha = 0.75, mat_confap = ListedColormap(('red','green')))\n",
    "mplt.xlim(X1.min(), X1.max())\n",
    "mplt.ylim(X2.min(), X2.max())\n",
    "for i, j in enumerate(np.unique(y_set)):\n",
    "        mplt.scatter(X_set[y_set == j, 0], X_set[y_set == j, 1],\n",
    "                    c = ListedColormap(('red','black'))(i), label = j)\n",
    "mplt.title ('Classification de l arbre de decision (Training set)')\n",
    "mplt.xlabel ('Age')\n",
    "mplt.ylabel('Salaire estime')\n",
    "mplt.legend()\n",
    "mplt.show()"
   ]
  },
  {
   "cell_type": "code",
   "execution_count": 37,
   "metadata": {},
   "outputs": [
    {
     "name": "stderr",
     "output_type": "stream",
     "text": [
      "C:\\Users\\aleleannec\\Anaconda3\\lib\\site-packages\\matplotlib\\contour.py:1000: UserWarning: The following kwargs were not used by contour: 'mat_confap'\n",
      "  s)\n",
      "'c' argument looks like a single numeric RGB or RGBA sequence, which should be avoided as value-mapping will have precedence in case its length matches with 'x' & 'y'.  Please use a 2-D array with a single row if you really want to specify the same RGB or RGBA value for all points.\n",
      "'c' argument looks like a single numeric RGB or RGBA sequence, which should be avoided as value-mapping will have precedence in case its length matches with 'x' & 'y'.  Please use a 2-D array with a single row if you really want to specify the same RGB or RGBA value for all points.\n"
     ]
    },
    {
     "data": {
      "image/png": "[encoded data removed]",
      "text/plain": [
       "<Figure size 432x288 with 1 Axes>"
      ]
     },
     "metadata": {
      "needs_background": "light"
     },
     "output_type": "display_data"
    }
   ],
   "source": [
    "# Visualisation de l'arbre : visualiser sur le jeu de données Test\n",
    "from matplotlib.colors import ListedColormap\n",
    "X_set, y_set = X_test, y_test\n",
    "X1, X2 = np.meshgrid(np.arange(start = X_set[:, 0].min() - 1, stop = X_set[:, 0].max()+ 1, step = 0.01),\n",
    "                     np.arange(start = X_set[:, 1].min() - 1, stop = X_set[:, 1].max()+ 1, step = 0.01))\n",
    "mplt.contour(X1, X2, classification.predict(np.array([X1.ravel(), X2.ravel()]).T).reshape(X1.shape),\n",
    "            alpha = 0.75, mat_confap = ListedColormap(('red','green')))\n",
    "mplt.xlim(X1.min(), X1.max())\n",
    "mplt.ylim(X2.min(), X2.max())\n",
    "for i, j in enumerate(np.unique(y_set)):\n",
    "        mplt.scatter(X_set[y_set == j, 0], X_set[y_set == j, 1],\n",
    "                    c = ListedColormap(('red','black'))(i), label = j)\n",
    "mplt.title ('Classification de l arbre de decision (Test set)')\n",
    "mplt.xlabel ('Age')\n",
    "mplt.ylabel('Salaire estime')\n",
    "mplt.legend()\n",
    "mplt.show()"
   ]
  },
  {
   "cell_type": "code",
   "execution_count": 38,
   "metadata": {},
   "outputs": [
    {
     "data": {
      "text/plain": [
       "'Test Viz.pdf'"
      ]
     },
     "execution_count": 38,
     "metadata": {},
     "output_type": "execute_result"
    }
   ],
   "source": [
    "# Visualisation de l'arbre de decision\n",
    "import graphviz\n",
    "from sklearn import tree\n",
    "with open(\"test.dot\", 'w') as f:\n",
    "    f = tree.export_graphviz(classification, out_file=f)\n",
    "\n",
    "\n",
    "dot_data = tree.export_graphviz(classification, out_file=None,\n",
    "            #feature_names=dataset.feature_names,\n",
    "            #class_names=dataset.target_names,\n",
    "            filled=True, rounded=True,\n",
    "            special_characters=True)\n",
    "graph = graphviz.Source(dot_data)\n",
    "# impression de l'arbre dans Python mais pas pratique\n",
    "graph\n",
    "# impression de l'arbre dans un pdf / plus pratique - visible dans le repertoire sur lequel on travaille\n",
    "graph.render(\"Test Viz\")\n"
   ]
  },
  {
   "cell_type": "code",
   "execution_count": 39,
   "metadata": {},
   "outputs": [
    {
     "name": "stdout",
     "output_type": "stream",
     "text": [
      "AUC 0.8942574868786662\n"
     ]
    }
   ],
   "source": [
    "# Importation de metrics - utilisé pour les mesures de performances\n",
    "from sklearn import metrics\n",
    "\n",
    "# AUC\n",
    "AUC = metrics.roc_auc_score(y_test, y_prediction)\n",
    "print ('AUC', AUC)"
   ]
  },
  {
   "cell_type": "code",
   "execution_count": 42,
   "metadata": {},
   "outputs": [
    {
     "name": "stdout",
     "output_type": "stream",
     "text": [
      "Taux de succès :  0.8916666666666667\n",
      "Taux d erreur :  0.10833333333333328\n"
     ]
    }
   ],
   "source": [
    "#taux de succès\n",
    "acc = metrics.accuracy_score(y_test,y_prediction)\n",
    "print('Taux de succès : ',acc)\n",
    "\n",
    "#taux d'erreur\n",
    "err = 1.0 - acc\n",
    "print('Taux d erreur : ',err)"
   ]
  },
  {
   "cell_type": "code",
   "execution_count": null,
   "metadata": {},
   "outputs": [],
   "source": []
  },
  {
   "cell_type": "code",
   "execution_count": null,
   "metadata": {},
   "outputs": [],
   "source": []
  }
 ],
 "metadata": {
  "kernelspec": {
   "display_name": "Python 3",
   "language": "python",
   "name": "python3"
  },
  "language_info": {
   "codemirror_mode": {
    "name": "ipython",
    "version": 3
   },
   "file_extension": ".py",
   "mimetype": "text/x-python",
   "name": "python",
   "nbconvert_exporter": "python",
   "pygments_lexer": "ipython3",
   "version": "3.7.1"
  }
 },
 "nbformat": 4,
 "nbformat_minor": 2
}
