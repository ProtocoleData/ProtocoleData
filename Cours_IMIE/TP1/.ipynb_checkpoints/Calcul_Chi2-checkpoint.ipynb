{
 "cells": [
  {
   "cell_type": "code",
   "execution_count": 1,
   "metadata": {},
   "outputs": [],
   "source": [
    "#Import des librairies pandas, scikit-learn et numpy\n",
    "import pandas as pd\n",
    "import numpy as np\n",
    "from sklearn.feature_selection import SelectKBest\n",
    "from sklearn.feature_selection import chi2\n",
    "\n",
    "# Importer le dataset\n",
    "dataset = pd.read_excel(\"201904_REGR.xlsx\",sheet_name=1,header=0,index_col=0)"
   ]
  },
  {
   "cell_type": "code",
   "execution_count": 2,
   "metadata": {},
   "outputs": [
    {
     "name": "stdout",
     "output_type": "stream",
     "text": [
      "(5, 3)\n",
      "           Hommes  Femmes  Total\n",
      "Salaire                         \n",
      "1000-2000      20      90    110\n",
      "2000-3000      70      75    145\n",
      "3000-4000     120      90    210\n",
      "4000-5000      80      30    110\n",
      "Total         290     285    575\n"
     ]
    }
   ],
   "source": [
    "#dimension\n",
    "print(dataset.shape) # (4, 2)\n",
    "\n",
    "#affichage des données\n",
    "print(dataset)"
   ]
  },
  {
   "cell_type": "code",
   "execution_count": 3,
   "metadata": {},
   "outputs": [
    {
     "name": "stdout",
     "output_type": "stream",
     "text": [
      "           Hommes  Femmes  Total\n",
      "Salaire                         \n",
      "1000-2000      20      90    110\n",
      "2000-3000      70      75    145\n",
      "3000-4000     120      90    210\n",
      "4000-5000      80      30    110\n",
      "Total         290     285    575\n",
      "dof=8\n",
      "[[ 55.47826087  54.52173913 110.        ]\n",
      " [ 73.13043478  71.86956522 145.        ]\n",
      " [105.91304348 104.08695652 210.        ]\n",
      " [ 55.47826087  54.52173913 110.        ]\n",
      " [290.         285.         575.        ]]\n",
      "probability=0.950, critical=15.507, stat=71.693\n",
      "Dependent (reject H0)\n",
      "significance=0.050, p=0.000\n",
      "Dependent (reject H0)\n"
     ]
    }
   ],
   "source": [
    "# Calcul du Chi2\n",
    "from scipy.stats import chi2_contingency\n",
    "from scipy.stats import chi2\n",
    "# contingency table\n",
    "print(dataset)\n",
    "stat, p, dof, expected = chi2_contingency(dataset)\n",
    "print('dof=%d' % dof)\n",
    "print(expected)\n",
    "# interpret test-statistic\n",
    "prob = 0.95\n",
    "critical = chi2.ppf(prob, dof)\n",
    "print('probability=%.3f, critical=%.3f, stat=%.3f' % (prob, critical, stat))\n",
    "if abs(stat) >= critical:\n",
    "    print('Dependent (reject H0)')\n",
    "else:\n",
    "    print('Independent (fail to reject H0)')\n",
    "# interpret p-value\n",
    "alpha = 1.0 - prob\n",
    "print('significance=%.3f, p=%.3f' % (alpha, p))\n",
    "if p <= alpha:\n",
    "    print('Dependent (reject H0)')\n",
    "else:\n",
    "    print('Independent (fail to reject H0)')"
   ]
  },
  {
   "cell_type": "code",
   "execution_count": null,
   "metadata": {},
   "outputs": [],
   "source": []
  },
  {
   "cell_type": "code",
   "execution_count": null,
   "metadata": {},
   "outputs": [],
   "source": []
  }
 ],
 "metadata": {
  "kernelspec": {
   "display_name": "Python 3",
   "language": "python",
   "name": "python3"
  },
  "language_info": {
   "codemirror_mode": {
    "name": "ipython",
    "version": 3
   },
   "file_extension": ".py",
   "mimetype": "text/x-python",
   "name": "python",
   "nbconvert_exporter": "python",
   "pygments_lexer": "ipython3",
   "version": "3.7.1"
  }
 },
 "nbformat": 4,
 "nbformat_minor": 2
}
