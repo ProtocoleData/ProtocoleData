{
 "cells": [
  {
   "cell_type": "code",
   "execution_count": 1,
   "metadata": {},
   "outputs": [],
   "source": [
    "import nltk\n",
    "import PyPDF2\n",
    "\n"
   ]
  },
  {
   "cell_type": "code",
   "execution_count": null,
   "metadata": {},
   "outputs": [],
   "source": [
    "# Récupération du PDF\n",
    "\n",
    "mypdf = open('Rapport_Villani_accessible.pdf', mode='rb')  \n",
    "pdf_document = PyPDF2.PdfFileReader(mypdf)  \n"
   ]
  },
  {
   "cell_type": "code",
   "execution_count": 2,
   "metadata": {},
   "outputs": [
    {
     "name": "stdout",
     "output_type": "stream",
     "text": [
      "<PyPDF2.pdf.PdfFileReader object at 0x000001C9C12002E8>\n"
     ]
    },
    {
     "data": {
      "text/plain": [
       "235"
      ]
     },
     "execution_count": 2,
     "metadata": {},
     "output_type": "execute_result"
    }
   ],
   "source": [
    "# Informations sur le pdf\n",
    "\n",
    "## Type de PDF\n",
    "print(pdf_document)\n",
    "\n",
    "## Nombre de pages\n",
    "pdf_document.numPages  "
   ]
  },
  {
   "cell_type": "code",
   "execution_count": 4,
   "metadata": {},
   "outputs": [
    {
     "name": "stdout",
     "output_type": "stream",
     "text": [
      " 15de faire confiance à nos pépites \n",
      "nationales, soit parce qu™elles en \n",
      "ignorent l™existence, soit par excès \n",
      "de prudence. Notre mission propose \n",
      "ainsi de fédérer les acteurs français \n",
      "de l™intelligence arti˚cielle autour \n",
      "d™une marque forte, qui pourrait \n",
      "prendre la forme de labels et de prix \n",
      "«˜d™innovation de terrain˜» visant à \n",
      "récompenser les solutions d™IA les \n",
      "plus innovantes et à sécuriser de \n",
      "potentiels acheteurs.Cet effort doit s™accompagner d™une \n",
      "structuration de la demande en IA. \n",
      "Cela pourrait passer par la création \n",
      "d™un guichet unique d™information \n",
      "visant à aider les potentiels acheteurs \n",
      "d™IA à mieux formaliser leurs besoins \n",
      "et à identi˚er les acteurs permettant \n",
      "d™y répondre. \n",
      "Un choix clair˜:  mettre l™accent sur quatre \n",
      "\n",
      "secteurs stratégiquesPour renforcer l™écosystème fran\n",
      "-çais et européen de l™intelligence \n",
      "arti˚cielle, il nous faut tirer parti des \n",
      "avantages comparatifs et des niches \n",
      "d™excellence de notre économie. \n",
      "De ce point de vue, notre mission \n",
      "recommande d™éviter les logiques \n",
      "de saupoudrage et de concentrer \n",
      "l™effort sur quatre secteurs priori\n",
      "-taires˜: santé, environnement, trans\n",
      "-ports-mobilités et défense-sécurité. \n",
      "Tous représentent un dé˚ majeur du \n",
      "point de vue de l™intérêt général, \n",
      "tous requièrent une impulsion \n",
      "importante de l™État et tous sont \n",
      "susceptibles de cristalliser l™intérêt \n",
      "et l™implication continue des acteurs \n",
      "publics et privés. \n",
      "Pour chacun de ces secteurs, la stra\n",
      "-tégie industrielle doit permettre de \n",
      "mobiliser et de structurer les écosys\n",
      "-tèmes autour de grands enjeux et \n",
      "dé˚s sectoriels. Il n™est pas question ici de développer de l™IA pour elle-même, comme une ˚n en soi, mais \n",
      "justement de canaliser cette énergie \n",
      "pour le développement d™applica-tions, d™usages qui contribuent à amé-liorer notre performance économique \n",
      "ainsi que le bien commun˜: détection \n",
      "précoce des pathologies, médecine \n",
      "des 4P3, disparition des déserts médi-caux, mobilité urbaine à zéro émis\n",
      "-sion... Ces enjeux et dé˚s af˚chés \n",
      "de politique industrielle, propres à \n",
      "chaque secteur, dépassent le sujet \n",
      "de l™IA, mais pourraient contribuer \n",
      "à donner un terrain favorable à son développement.Le deuxième pilier de cette stratégie consiste à mettre en place des pla\n",
      "-teformes sectorielles de mutualisa-tion. Celles-ci devront offrir un accès \n",
      "différencié et sécurisé aux acteurs \n",
      "de ces différents écosystèmes \n",
      "(chercheurs, entreprises, puissance \n",
      "publique) à des données pertinentes \n",
      "pour le développement d™IA, à des \n",
      "ressources logicielles ainsi qu™à des \n",
      "infrastructures de calcul d™ampleur \n",
      "significative. Dans un continuum public-privé, ces plateformes devront \n",
      "permettre à ces différents acteurs de \n",
      "développer de nouvelles fonction-nalités adaptées aux spéci˚cités de \n",
      "\n",
      "chaque secteur.\n",
      "En˚n, il est essentiel de ˛uidi˚er les \n",
      "parcours d™innovation en IA avec la \n",
      "mise en place de «˜bacs à sable d™in\n",
      "-novation˜», qui se déclinent sur trois \n",
      "aspects˜: un allègement, temporaire, \n",
      "de certaines contraintes réglemen\n",
      "-taires pour laisser le champ libre à \n",
      "l™innovation˜; un accompagnement \n",
      "des acteurs dans la prise en compte de leurs obligations˜; des moyens \n",
      "d™expérimentation en situation réelle.\n",
      "Transformation de l™État, \n",
      "État˜exemplaire\n",
      "L™État doit être un puissant moteur \n",
      "de ces transformations. La puissance \n",
      "publique doit se donner les moyens \n",
      "3. Médecine personnalisée, préventive, prédictive, \n",
      "\n",
      "participative.\n"
     ]
    }
   ],
   "source": [
    "# Récupération d'une seule page du PDF\n",
    "\n",
    "first_page = pdf_document.getPage(15)\n",
    "\n",
    "print(first_page.extractText()) "
   ]
  },
  {
   "cell_type": "code",
   "execution_count": 5,
   "metadata": {},
   "outputs": [
    {
     "name": "stdout",
     "output_type": "stream",
     "text": [
      "['God', 'is', 'Great', '!', 'I', 'won', 'a', 'lottery', '.']\n"
     ]
    }
   ],
   "source": [
    "from nltk.tokenize import word_tokenize\n",
    "\n",
    "text_page = first_page.extractText()\n",
    "print(word_tokenize(text_page))"
   ]
  },
  {
   "cell_type": "code",
   "execution_count": null,
   "metadata": {},
   "outputs": [],
   "source": []
  }
 ],
 "metadata": {
  "kernelspec": {
   "display_name": "Python 3",
   "language": "python",
   "name": "python3"
  },
  "language_info": {
   "codemirror_mode": {
    "name": "ipython",
    "version": 3
   },
   "file_extension": ".py",
   "mimetype": "text/x-python",
   "name": "python",
   "nbconvert_exporter": "python",
   "pygments_lexer": "ipython3",
   "version": "3.7.1"
  }
 },
 "nbformat": 4,
 "nbformat_minor": 2
}
