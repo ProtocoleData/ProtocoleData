{
 "cells": [
  {
   "cell_type": "code",
   "execution_count": 1,
   "metadata": {},
   "outputs": [],
   "source": [
    "# import des librairies \n",
    "import numpy as np\n",
    "import matplotlib.pyplot as plt\n",
    "import pandas as pd\n",
    "import re as re\n",
    "import pdfminer\n",
    "from collections import Counter\n",
    "\n",
    "import nltk\n",
    "import PyPDF2\n",
    "\n",
    "# Import de librairies - possible qu'il faille importer avec pip ou dans anaconda des librairies\n",
    "import re\n",
    "import nltk\n",
    "import heapq\n",
    "import nltk\n",
    "# nltk.download('punkt')\n",
    "from nltk import word_tokenize,sent_tokenize\n",
    "from nltk.tokenize import WhitespaceTokenizer\n",
    "from nltk.data import load\n",
    "from nltk.tokenize.treebank import TreebankWordTokenizer\n",
    "\n"
   ]
  },
  {
   "cell_type": "code",
   "execution_count": 2,
   "metadata": {},
   "outputs": [],
   "source": [
    "# Récupération du PDF\n",
    "\n",
    "mypdf = open('Rapport_Villani_accessible.pdf', mode='rb')  \n",
    "pdf_document = PyPDF2.PdfFileReader(mypdf)  \n"
   ]
  },
  {
   "cell_type": "code",
   "execution_count": 3,
   "metadata": {},
   "outputs": [
    {
     "name": "stdout",
     "output_type": "stream",
     "text": [
      "<PyPDF2.pdf.PdfFileReader object at 0x00000192DED5F0F0>\n"
     ]
    },
    {
     "data": {
      "text/plain": [
       "235"
      ]
     },
     "execution_count": 3,
     "metadata": {},
     "output_type": "execute_result"
    }
   ],
   "source": [
    "# Informations sur le pdf\n",
    "\n",
    "## Type de PDF\n",
    "print(pdf_document)\n",
    "\n",
    "## Nombre de pages\n",
    "pdf_document.numPages  "
   ]
  },
  {
   "cell_type": "code",
   "execution_count": 4,
   "metadata": {},
   "outputs": [
    {
     "name": "stdout",
     "output_type": "stream",
     "text": [
      " 15de faire confiance à nos pépites \n",
      "nationales, soit parce qu™elles en \n",
      "ignorent l™existence, soit par excès \n",
      "de prudence. Notre mission propose \n",
      "ainsi de fédérer les acteurs français \n",
      "de l™intelligence arti˚cielle autour \n",
      "d™une marque forte, qui pourrait \n",
      "prendre la forme de labels et de prix \n",
      "«˜d™innovation de terrain˜» visant à \n",
      "récompenser les solutions d™IA les \n",
      "plus innovantes et à sécuriser de \n",
      "potentiels acheteurs.Cet effort doit s™accompagner d™une \n",
      "structuration de la demande en IA. \n",
      "Cela pourrait passer par la création \n",
      "d™un guichet unique d™information \n",
      "visant à aider les potentiels acheteurs \n",
      "d™IA à mieux formaliser leurs besoins \n",
      "et à identi˚er les acteurs permettant \n",
      "d™y répondre. \n",
      "Un choix clair˜:  mettre l™accent sur quatre \n",
      "\n",
      "secteurs stratégiquesPour renforcer l™écosystème fran\n",
      "-çais et européen de l™intelligence \n",
      "arti˚cielle, il nous faut tirer parti des \n",
      "avantages comparatifs et des niches \n",
      "d™excellence de notre économie. \n",
      "De ce point de vue, notre mission \n",
      "recommande d™éviter les logiques \n",
      "de saupoudrage et de concentrer \n",
      "l™effort sur quatre secteurs priori\n",
      "-taires˜: santé, environnement, trans\n",
      "-ports-mobilités et défense-sécurité. \n",
      "Tous représentent un dé˚ majeur du \n",
      "point de vue de l™intérêt général, \n",
      "tous requièrent une impulsion \n",
      "importante de l™État et tous sont \n",
      "susceptibles de cristalliser l™intérêt \n",
      "et l™implication continue des acteurs \n",
      "publics et privés. \n",
      "Pour chacun de ces secteurs, la stra\n",
      "-tégie industrielle doit permettre de \n",
      "mobiliser et de structurer les écosys\n",
      "-tèmes autour de grands enjeux et \n",
      "dé˚s sectoriels. Il n™est pas question ici de développer de l™IA pour elle-même, comme une ˚n en soi, mais \n",
      "justement de canaliser cette énergie \n",
      "pour le développement d™applica-tions, d™usages qui contribuent à amé-liorer notre performance économique \n",
      "ainsi que le bien commun˜: détection \n",
      "précoce des pathologies, médecine \n",
      "des 4P3, disparition des déserts médi-caux, mobilité urbaine à zéro émis\n",
      "-sion... Ces enjeux et dé˚s af˚chés \n",
      "de politique industrielle, propres à \n",
      "chaque secteur, dépassent le sujet \n",
      "de l™IA, mais pourraient contribuer \n",
      "à donner un terrain favorable à son développement.Le deuxième pilier de cette stratégie consiste à mettre en place des pla\n",
      "-teformes sectorielles de mutualisa-tion. Celles-ci devront offrir un accès \n",
      "différencié et sécurisé aux acteurs \n",
      "de ces différents écosystèmes \n",
      "(chercheurs, entreprises, puissance \n",
      "publique) à des données pertinentes \n",
      "pour le développement d™IA, à des \n",
      "ressources logicielles ainsi qu™à des \n",
      "infrastructures de calcul d™ampleur \n",
      "significative. Dans un continuum public-privé, ces plateformes devront \n",
      "permettre à ces différents acteurs de \n",
      "développer de nouvelles fonction-nalités adaptées aux spéci˚cités de \n",
      "\n",
      "chaque secteur.\n",
      "En˚n, il est essentiel de ˛uidi˚er les \n",
      "parcours d™innovation en IA avec la \n",
      "mise en place de «˜bacs à sable d™in\n",
      "-novation˜», qui se déclinent sur trois \n",
      "aspects˜: un allègement, temporaire, \n",
      "de certaines contraintes réglemen\n",
      "-taires pour laisser le champ libre à \n",
      "l™innovation˜; un accompagnement \n",
      "des acteurs dans la prise en compte de leurs obligations˜; des moyens \n",
      "d™expérimentation en situation réelle.\n",
      "Transformation de l™État, \n",
      "État˜exemplaire\n",
      "L™État doit être un puissant moteur \n",
      "de ces transformations. La puissance \n",
      "publique doit se donner les moyens \n",
      "3. Médecine personnalisée, préventive, prédictive, \n",
      "\n",
      "participative.\n"
     ]
    }
   ],
   "source": [
    "# Récupération d'une seule page du PDF\n",
    "\n",
    "first_page = pdf_document.getPage(15)\n",
    "\n",
    "# print(first_page.extractText()) "
   ]
  },
  {
   "cell_type": "code",
   "execution_count": 5,
   "metadata": {},
   "outputs": [
    {
     "name": "stdout",
     "output_type": "stream",
     "text": [
      "['15de', 'faire', 'confiance', 'à', 'nos', 'pépites', 'nationales', ',', 'soit', 'parce', 'qu™elles', 'en', 'ignorent', 'l™existence', ',', 'soit', 'par', 'excès', 'de', 'prudence', '.', 'Notre', 'mission', 'propose', 'ainsi', 'de', 'fédérer', 'les', 'acteurs', 'français', 'de', 'l™intelligence', 'arti˚cielle', 'autour', 'd™une', 'marque', 'forte', ',', 'qui', 'pourrait', 'prendre', 'la', 'forme', 'de', 'labels', 'et', 'de', 'prix', '«', '˜d™innovation', 'de', 'terrain˜', '»', 'visant', 'à', 'récompenser', 'les', 'solutions', 'd™IA', 'les', 'plus', 'innovantes', 'et', 'à', 'sécuriser', 'de', 'potentiels', 'acheteurs.Cet', 'effort', 'doit', 's™accompagner', 'd™une', 'structuration', 'de', 'la', 'demande', 'en', 'IA', '.', 'Cela', 'pourrait', 'passer', 'par', 'la', 'création', 'd™un', 'guichet', 'unique', 'd™information', 'visant', 'à', 'aider', 'les', 'potentiels', 'acheteurs', 'd™IA', 'à', 'mieux', 'formaliser', 'leurs', 'besoins', 'et', 'à', 'identi˚er', 'les', 'acteurs', 'permettant', 'd™y', 'répondre', '.', 'Un', 'choix', 'clair˜', ':', 'mettre', 'l™accent', 'sur', 'quatre', 'secteurs', 'stratégiquesPour', 'renforcer', 'l™écosystème', 'fran', '-çais', 'et', 'européen', 'de', 'l™intelligence', 'arti˚cielle', ',', 'il', 'nous', 'faut', 'tirer', 'parti', 'des', 'avantages', 'comparatifs', 'et', 'des', 'niches', 'd™excellence', 'de', 'notre', 'économie', '.', 'De', 'ce', 'point', 'de', 'vue', ',', 'notre', 'mission', 'recommande', 'd™éviter', 'les', 'logiques', 'de', 'saupoudrage', 'et', 'de', 'concentrer', 'l™effort', 'sur', 'quatre', 'secteurs', 'priori', '-taires˜', ':', 'santé', ',', 'environnement', ',', 'trans', '-ports-mobilités', 'et', 'défense-sécurité', '.', 'Tous', 'représentent', 'un', 'dé˚', 'majeur', 'du', 'point', 'de', 'vue', 'de', 'l™intérêt', 'général', ',', 'tous', 'requièrent', 'une', 'impulsion', 'importante', 'de', 'l™État', 'et', 'tous', 'sont', 'susceptibles', 'de', 'cristalliser', 'l™intérêt', 'et', 'l™implication', 'continue', 'des', 'acteurs', 'publics', 'et', 'privés', '.', 'Pour', 'chacun', 'de', 'ces', 'secteurs', ',', 'la', 'stra', '-tégie', 'industrielle', 'doit', 'permettre', 'de', 'mobiliser', 'et', 'de', 'structurer', 'les', 'écosys', '-tèmes', 'autour', 'de', 'grands', 'enjeux', 'et', 'dé˚s', 'sectoriels', '.', 'Il', 'n™est', 'pas', 'question', 'ici', 'de', 'développer', 'de', 'l™IA', 'pour', 'elle-même', ',', 'comme', 'une', '˚n', 'en', 'soi', ',', 'mais', 'justement', 'de', 'canaliser', 'cette', 'énergie', 'pour', 'le', 'développement', 'd™applica-tions', ',', 'd™usages', 'qui', 'contribuent', 'à', 'amé-liorer', 'notre', 'performance', 'économique', 'ainsi', 'que', 'le', 'bien', 'commun˜', ':', 'détection', 'précoce', 'des', 'pathologies', ',', 'médecine', 'des', '4P3', ',', 'disparition', 'des', 'déserts', 'médi-caux', ',', 'mobilité', 'urbaine', 'à', 'zéro', 'émis', '-sion', '...', 'Ces', 'enjeux', 'et', 'dé˚s', 'af˚chés', 'de', 'politique', 'industrielle', ',', 'propres', 'à', 'chaque', 'secteur', ',', 'dépassent', 'le', 'sujet', 'de', 'l™IA', ',', 'mais', 'pourraient', 'contribuer', 'à', 'donner', 'un', 'terrain', 'favorable', 'à', 'son', 'développement.Le', 'deuxième', 'pilier', 'de', 'cette', 'stratégie', 'consiste', 'à', 'mettre', 'en', 'place', 'des', 'pla', '-teformes', 'sectorielles', 'de', 'mutualisa-tion', '.', 'Celles-ci', 'devront', 'offrir', 'un', 'accès', 'différencié', 'et', 'sécurisé', 'aux', 'acteurs', 'de', 'ces', 'différents', 'écosystèmes', '(', 'chercheurs', ',', 'entreprises', ',', 'puissance', 'publique', ')', 'à', 'des', 'données', 'pertinentes', 'pour', 'le', 'développement', 'd™IA', ',', 'à', 'des', 'ressources', 'logicielles', 'ainsi', 'qu™à', 'des', 'infrastructures', 'de', 'calcul', 'd™ampleur', 'significative', '.', 'Dans', 'un', 'continuum', 'public-privé', ',', 'ces', 'plateformes', 'devront', 'permettre', 'à', 'ces', 'différents', 'acteurs', 'de', 'développer', 'de', 'nouvelles', 'fonction-nalités', 'adaptées', 'aux', 'spéci˚cités', 'de', 'chaque', 'secteur', '.', 'En˚n', ',', 'il', 'est', 'essentiel', 'de', '˛uidi˚er', 'les', 'parcours', 'd™innovation', 'en', 'IA', 'avec', 'la', 'mise', 'en', 'place', 'de', '«', '˜bacs', 'à', 'sable', 'd™in', '-novation˜', '»', ',', 'qui', 'se', 'déclinent', 'sur', 'trois', 'aspects˜', ':', 'un', 'allègement', ',', 'temporaire', ',', 'de', 'certaines', 'contraintes', 'réglemen', '-taires', 'pour', 'laisser', 'le', 'champ', 'libre', 'à', 'l™innovation˜', ';', 'un', 'accompagnement', 'des', 'acteurs', 'dans', 'la', 'prise', 'en', 'compte', 'de', 'leurs', 'obligations˜', ';', 'des', 'moyens', 'd™expérimentation', 'en', 'situation', 'réelle', '.', 'Transformation', 'de', 'l™État', ',', 'État˜exemplaire', 'L™État', 'doit', 'être', 'un', 'puissant', 'moteur', 'de', 'ces', 'transformations', '.', 'La', 'puissance', 'publique', 'doit', 'se', 'donner', 'les', 'moyens', '3', '.', 'Médecine', 'personnalisée', ',', 'préventive', ',', 'prédictive', ',', 'participative', '.']\n"
     ]
    }
   ],
   "source": [
    "from nltk.tokenize import word_tokenize\n",
    "\n",
    "text_page = first_page.extractText()\n",
    "# print(word_tokenize(text_page))"
   ]
  },
  {
   "cell_type": "code",
   "execution_count": 6,
   "metadata": {},
   "outputs": [
    {
     "ename": "NameError",
     "evalue": "name 'stop_words' is not defined",
     "output_type": "error",
     "traceback": [
      "\u001b[1;31m---------------------------------------------------------------------------\u001b[0m",
      "\u001b[1;31mNameError\u001b[0m                                 Traceback (most recent call last)",
      "\u001b[1;32m<ipython-input-6-77f3484d61ee>\u001b[0m in \u001b[0;36m<module>\u001b[1;34m\u001b[0m\n\u001b[0;32m      2\u001b[0m \u001b[0mword2count\u001b[0m \u001b[1;33m=\u001b[0m \u001b[1;33m{\u001b[0m\u001b[1;33m}\u001b[0m\u001b[1;33m\u001b[0m\u001b[1;33m\u001b[0m\u001b[0m\n\u001b[0;32m      3\u001b[0m \u001b[1;32mfor\u001b[0m \u001b[0mword\u001b[0m \u001b[1;32min\u001b[0m \u001b[0mnltk\u001b[0m\u001b[1;33m.\u001b[0m\u001b[0mword_tokenize\u001b[0m\u001b[1;33m(\u001b[0m\u001b[0mtext_page\u001b[0m\u001b[1;33m)\u001b[0m\u001b[1;33m:\u001b[0m\u001b[1;33m\u001b[0m\u001b[1;33m\u001b[0m\u001b[0m\n\u001b[1;32m----> 4\u001b[1;33m     \u001b[1;32mif\u001b[0m \u001b[0mword\u001b[0m \u001b[1;32mnot\u001b[0m \u001b[1;32min\u001b[0m \u001b[0mstop_words\u001b[0m\u001b[1;33m:\u001b[0m\u001b[1;33m\u001b[0m\u001b[1;33m\u001b[0m\u001b[0m\n\u001b[0m\u001b[0;32m      5\u001b[0m         \u001b[1;32mif\u001b[0m \u001b[0mword\u001b[0m \u001b[1;32mnot\u001b[0m \u001b[1;32min\u001b[0m \u001b[0mword2count\u001b[0m\u001b[1;33m.\u001b[0m\u001b[0mkeys\u001b[0m\u001b[1;33m(\u001b[0m\u001b[1;33m)\u001b[0m\u001b[1;33m:\u001b[0m\u001b[1;33m\u001b[0m\u001b[1;33m\u001b[0m\u001b[0m\n\u001b[0;32m      6\u001b[0m             \u001b[0mword2count\u001b[0m\u001b[1;33m[\u001b[0m\u001b[0mword\u001b[0m\u001b[1;33m]\u001b[0m \u001b[1;33m=\u001b[0m \u001b[1;36m1\u001b[0m\u001b[1;33m\u001b[0m\u001b[1;33m\u001b[0m\u001b[0m\n",
      "\u001b[1;31mNameError\u001b[0m: name 'stop_words' is not defined"
     ]
    }
   ],
   "source": [
    "# Compter les mots \n",
    "word2count = {}\n",
    "for word in nltk.word_tokenize(text_page):\n",
    "    if word not in stop_words:\n",
    "        if word not in word2count.keys():\n",
    "            word2count[word] = 1\n",
    "        else:\n",
    "            word2count[word] += 1\n",
    "\n",
    "# Selectionner les 100 mots les plus frequents\n",
    "freq_words = heapq.nlargest(100,word2count,key=word2count.get)\n",
    "print(freq_words)  "
   ]
  }
 ],
 "metadata": {
  "kernelspec": {
   "display_name": "Python 3",
   "language": "python",
   "name": "python3"
  },
  "language_info": {
   "codemirror_mode": {
    "name": "ipython",
    "version": 3
   },
   "file_extension": ".py",
   "mimetype": "text/x-python",
   "name": "python",
   "nbconvert_exporter": "python",
   "pygments_lexer": "ipython3",
   "version": "3.7.0"
  }
 },
 "nbformat": 4,
 "nbformat_minor": 2
}
