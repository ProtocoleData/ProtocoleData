{
 "cells": [
  {
   "cell_type": "code",
   "execution_count": 1,
   "metadata": {},
   "outputs": [],
   "source": [
    "# Importer les librairies\n",
    "\n",
    "#librairie pandas\n",
    "import pandas as pandas\n",
    "#scikit-learn\n",
    "import sklearn\n",
    "#librairie numpy\n",
    "import numpy\n",
    "#librairie matplotlib\n",
    "import matplotlib.pyplot\n",
    "\n",
    "\n",
    "\n"
   ]
  },
  {
   "cell_type": "code",
   "execution_count": 2,
   "metadata": {},
   "outputs": [],
   "source": [
    "# Importer le dataset\n",
    "\n",
    "X = pandas.read_excel(\"exercice.xlsx\",sheet_name=0,header=0,index_col=0)\n",
    "dataset = pandas.read_csv('Mall_Customers.csv')"
   ]
  },
  {
   "cell_type": "code",
   "execution_count": 13,
   "metadata": {},
   "outputs": [
    {
     "name": "stdout",
     "output_type": "stream",
     "text": [
      "(200, 5)\n",
      "Nombre de tuples: 200\n",
      "Nombre de colonnes: 5\n"
     ]
    },
    {
     "data": {
      "text/plain": [
       "(200, 5)"
      ]
     },
     "execution_count": 13,
     "metadata": {},
     "output_type": "execute_result"
    }
   ],
   "source": [
    "#Rapide résumé du dataframe: nombre de colonnes et nombre de lignes\n",
    "\n",
    "#nombre d'observations\n",
    "n = dataset.shape[0]\n",
    "#nombre de variables\n",
    "p = dataset.shape[1]\n",
    "\n",
    "print(\"Nombre de tuples: \"+ str(n))\n",
    "print(\"Nombre de colonnes: \"+ str(p))\n",
    "\n",
    "#Rapide résumé du dataframe: nombre de colonnes et nombre de lignes\n",
    "dataset.shape"
   ]
  },
  {
   "cell_type": "code",
   "execution_count": null,
   "metadata": {},
   "outputs": [],
   "source": []
  },
  {
   "cell_type": "code",
   "execution_count": null,
   "metadata": {},
   "outputs": [],
   "source": []
  },
  {
   "cell_type": "code",
   "execution_count": null,
   "metadata": {},
   "outputs": [],
   "source": []
  }
 ],
 "metadata": {
  "kernelspec": {
   "display_name": "Python 3",
   "language": "python",
   "name": "python3"
  },
  "language_info": {
   "codemirror_mode": {
    "name": "ipython",
    "version": 3
   },
   "file_extension": ".py",
   "mimetype": "text/x-python",
   "name": "python",
   "nbconvert_exporter": "python",
   "pygments_lexer": "ipython3",
   "version": "3.7.1"
  }
 },
 "nbformat": 4,
 "nbformat_minor": 2
}
