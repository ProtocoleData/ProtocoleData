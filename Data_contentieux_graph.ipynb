{
 "cells": [
  {
   "cell_type": "code",
   "execution_count": 1,
   "metadata": {},
   "outputs": [],
   "source": [
    "import pandas as pd\n"
   ]
  },
  {
   "cell_type": "code",
   "execution_count": 2,
   "metadata": {},
   "outputs": [],
   "source": [
    "path = \"D:/_Repository/Github/ProtocoleData/Data_contentieux_date.csv\"\n",
    "dataset = pd.read_csv(path, delimiter=\";\", low_memory=False )# Dataset is now stored in a Pandas Dataframe\n",
    "\n",
    "# opsd_daily = pd.read_csv('C:/Users/Jupyter_Notebook/Data_contentieux.csv', error_bad_lines=False)\n"
   ]
  },
  {
   "cell_type": "code",
   "execution_count": 3,
   "metadata": {},
   "outputs": [
    {
     "data": {
      "text/plain": [
       "(1048547, 23)"
      ]
     },
     "execution_count": 3,
     "metadata": {},
     "output_type": "execute_result"
    }
   ],
   "source": [
    "dataset.shape"
   ]
  },
  {
   "cell_type": "code",
   "execution_count": 4,
   "metadata": {},
   "outputs": [
    {
     "data": {
      "text/plain": [
       "Index(['juridiction', 'lieu', 'formation', 'requete', 'date', 'nom',\n",
       "       'demandeur', 'fondement', 'issue', 'urgence', 'doute_serieux', 'mort',\n",
       "       'espece_individu', 'euthanasie', 'conditions_de_vie', 'chasse',\n",
       "       'espece', 'qualification', 'securite', 'salubrite', 'protection',\n",
       "       'Unnamed: 21', 'Unnamed: 22'],\n",
       "      dtype='object')"
      ]
     },
     "execution_count": 4,
     "metadata": {},
     "output_type": "execute_result"
    }
   ],
   "source": [
    "dataset.columns\n"
   ]
  },
  {
   "cell_type": "code",
   "execution_count": 5,
   "metadata": {},
   "outputs": [
    {
     "data": {
      "text/plain": [
       "['juridiction',\n",
       " 'lieu',\n",
       " 'formation',\n",
       " 'requete',\n",
       " 'date',\n",
       " 'nom',\n",
       " 'demandeur',\n",
       " 'fondement',\n",
       " 'issue',\n",
       " 'urgence',\n",
       " 'doute_serieux',\n",
       " 'mort',\n",
       " 'espece_individu',\n",
       " 'euthanasie',\n",
       " 'conditions_de_vie',\n",
       " 'chasse',\n",
       " 'espece',\n",
       " 'qualification',\n",
       " 'securite',\n",
       " 'salubrite',\n",
       " 'protection',\n",
       " 'Unnamed: 21',\n",
       " 'Unnamed: 22']"
      ]
     },
     "execution_count": 5,
     "metadata": {},
     "output_type": "execute_result"
    }
   ],
   "source": [
    "table_field = list(dataset.columns.values)\n",
    "table_field"
   ]
  },
  {
   "cell_type": "code",
   "execution_count": 6,
   "metadata": {},
   "outputs": [
    {
     "name": "stdout",
     "output_type": "stream",
     "text": [
      "        juridiction lieu  formation    requete       date  \\\n",
      "0                CE  NaN  cassation 2001-02-23 2001-05-16   \n",
      "1                CE  NaN      ord.  2001-06-08 2001-07-09   \n",
      "2                CE  NaN      ord.  2001-07-13 2001-08-08   \n",
      "3                CE  NaN        NaN 2003-08-01 2004-01-14   \n",
      "4                CE  NaN        NaN 2004-08-13 2004-08-20   \n",
      "...             ...  ...        ...        ...        ...   \n",
      "1048542         NaN  NaN        NaN        NaT        NaT   \n",
      "1048543         NaN  NaN        NaN        NaT        NaT   \n",
      "1048544         NaN  NaN        NaN        NaT        NaT   \n",
      "1048545         NaN  NaN        NaN        NaT        NaT   \n",
      "1048546         NaN  NaN        NaN        NaT        NaT   \n",
      "\n",
      "                                                       nom         demandeur  \\\n",
      "0                                            Epoux Duffaut        administré   \n",
      "1        ass. fédérative régionale pour la protection d...  ass. spécialisée   \n",
      "2                                                    BRARD       administré    \n",
      "3                                                    ASPAS    ass. nationale   \n",
      "4                                                    ASPAS    ass. nationale   \n",
      "...                                                    ...               ...   \n",
      "1048542                                                NaN               NaN   \n",
      "1048543                                                NaN               NaN   \n",
      "1048544                                                NaN               NaN   \n",
      "1048545                                                NaN               NaN   \n",
      "1048546                                                NaN               NaN   \n",
      "\n",
      "                    fondement       issue  urgence  ... euthanasie  \\\n",
      "0        article L. 521-1 CJA  Suspension      Oui  ...        Oui   \n",
      "1        article L. 521-1 CJA      Rejet       Non  ...        Non   \n",
      "2        article L. 521-1 CJA       Rejet  Silence  ...        Non   \n",
      "3        article L. 521-1 CJA       Rejet      Non  ...        Non   \n",
      "4        article L. 521-1 CJA       Rejet  Inutile  ...        Non   \n",
      "...                       ...         ...      ...  ...        ...   \n",
      "1048542                   NaN         NaN      NaN  ...        NaN   \n",
      "1048543                   NaN         NaN      NaN  ...        NaN   \n",
      "1048544                   NaN         NaN      NaN  ...        NaN   \n",
      "1048545                   NaN         NaN      NaN  ...        NaN   \n",
      "1048546                   NaN         NaN      NaN  ...        NaN   \n",
      "\n",
      "        conditions_de_vie chasse                   espece qualification  \\\n",
      "0                     Non    Non                   Bovins         Rente   \n",
      "1                     Oui    Non  Oiseaux et gibier d'eau       Sauvage   \n",
      "2                     Non    Oui                    Loups       Sauvage   \n",
      "3                     Non    Oui  Ragondins et rat musqué       Sauvage   \n",
      "4                     Non    Oui                    Loups       Sauvage   \n",
      "...                   ...    ...                      ...           ...   \n",
      "1048542               NaN    NaN                      NaN           NaN   \n",
      "1048543               NaN    NaN                      NaN           NaN   \n",
      "1048544               NaN    NaN                      NaN           NaN   \n",
      "1048545               NaN    NaN                      NaN           NaN   \n",
      "1048546               NaN    NaN                      NaN           NaN   \n",
      "\n",
      "        securite salubrite protection Unnamed: 21 Unnamed: 22  \n",
      "0            Non       Oui        Non         NaN         NaN  \n",
      "1            Non       Non        Oui         NaN         NaN  \n",
      "2            Oui       Non        Oui         NaN         NaN  \n",
      "3            Non       Non        Non         NaN         NaN  \n",
      "4            Oui       Non        Oui         NaN         NaN  \n",
      "...          ...       ...        ...         ...         ...  \n",
      "1048542      NaN       NaN        NaN         NaN         NaN  \n",
      "1048543      NaN       NaN        NaN         NaN         NaN  \n",
      "1048544      NaN       NaN        NaN         NaN         NaN  \n",
      "1048545      NaN       NaN        NaN         NaN         NaN  \n",
      "1048546      NaN       NaN        NaN         NaN         NaN  \n",
      "\n",
      "[1048547 rows x 23 columns]\n"
     ]
    }
   ],
   "source": [
    "dataset['date']= pd.to_datetime(dataset['date'], dayfirst=True, errors='coerce')\n",
    "dataset['requete']= pd.to_datetime(dataset['requete'], dayfirst=True, errors='coerce')\n",
    "\n",
    "print(dataset)\n",
    "# DatetimeIndex = dataset.set_index('Date')\n",
    "# DatetimeIndex(dataset.Date, dtype='datetime64[ns]', freq=None)\n"
   ]
  },
  {
   "cell_type": "code",
   "execution_count": 7,
   "metadata": {},
   "outputs": [
    {
     "data": {
      "text/plain": [
       "juridiction                  object\n",
       "lieu                         object\n",
       "formation                    object\n",
       "requete              datetime64[ns]\n",
       "date                 datetime64[ns]\n",
       "nom                          object\n",
       "demandeur                    object\n",
       "fondement                    object\n",
       "issue                        object\n",
       "urgence                      object\n",
       "doute_serieux                object\n",
       "mort                         object\n",
       "espece_individu              object\n",
       "euthanasie                   object\n",
       "conditions_de_vie            object\n",
       "chasse                       object\n",
       "espece                       object\n",
       "qualification                object\n",
       "securite                     object\n",
       "salubrite                    object\n",
       "protection                   object\n",
       "Unnamed: 21                 float64\n",
       "Unnamed: 22                 float64\n",
       "dtype: object"
      ]
     },
     "execution_count": 7,
     "metadata": {},
     "output_type": "execute_result"
    }
   ],
   "source": [
    "dataset.dtypes\n",
    "#pd.to_datetime(dataset['Date'], dayfirst=True)"
   ]
  },
  {
   "cell_type": "code",
   "execution_count": null,
   "metadata": {},
   "outputs": [],
   "source": []
  },
  {
   "cell_type": "code",
   "execution_count": 10,
   "metadata": {},
   "outputs": [],
   "source": [
    "import matplotlib.pyplot as plt\n",
    "import seaborn as sns\n",
    "# Use seaborn style defaults and set the default figure size\n",
    "sns.set(rc={'figure.figsize':(11, 4)})"
   ]
  },
  {
   "cell_type": "code",
   "execution_count": 11,
   "metadata": {},
   "outputs": [
    {
     "data": {
      "text/plain": [
       "DatetimeIndex(['2001-05-16', '2001-07-09', '2001-08-08', '2004-01-14',\n",
       "               '2004-08-20', '2004-10-28', '2004-12-02', '2005-06-10',\n",
       "               '2005-07-21', '2005-08-03',\n",
       "               ...\n",
       "                      'NaT',        'NaT',        'NaT',        'NaT',\n",
       "                      'NaT',        'NaT',        'NaT',        'NaT',\n",
       "                      'NaT',        'NaT'],\n",
       "              dtype='datetime64[ns]', name='date', length=1048547, freq=None)"
      ]
     },
     "execution_count": 11,
     "metadata": {},
     "output_type": "execute_result"
    }
   ],
   "source": [
    "dataset = dataset.set_index('date')\n",
    "\n",
    "dataset.index\n",
    "#dataset['date'].plot(linewidth=0.5);\n",
    "# , 'requete'"
   ]
  },
  {
   "cell_type": "code",
   "execution_count": null,
   "metadata": {},
   "outputs": [],
   "source": []
  }
 ],
 "metadata": {
  "kernelspec": {
   "display_name": "Python 3",
   "language": "python",
   "name": "python3"
  },
  "language_info": {
   "codemirror_mode": {
    "name": "ipython",
    "version": 3
   },
   "file_extension": ".py",
   "mimetype": "text/x-python",
   "name": "python",
   "nbconvert_exporter": "python",
   "pygments_lexer": "ipython3",
   "version": "3.7.2"
  }
 },
 "nbformat": 4,
 "nbformat_minor": 2
}
