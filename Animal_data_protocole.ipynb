{
 "cells": [
  {
   "cell_type": "markdown",
   "metadata": {
    "colab_type": "text",
    "id": "view-in-github"
   },
   "source": [
    "<a href=\"https://colab.research.google.com/github/pierre56/ProtocoleData/blob/master/Animal_data_protocole.ipynb\" target=\"_parent\"><img src=\"https://colab.research.google.com/assets/colab-badge.svg\" alt=\"Open In Colab\"/></a>"
   ]
  },
  {
   "cell_type": "markdown",
   "metadata": {
    "colab_type": "text",
    "id": "C9Ky_rmvv0kb"
   },
   "source": [
    "# L'animal et le contentieux de l'urgance\n",
    "## Sous-titre\n",
    "\n"
   ]
  },
  {
   "cell_type": "markdown",
   "metadata": {
    "colab_type": "text",
    "id": "cSQ5AQ7bvtdA"
   },
   "source": [
    "# Liste des indicateurs à produire\n",
    "\n",
    "### Ce qu’il me faudrait :\n",
    "\n",
    "#### Pourcentage\n",
    "Pourcentage : association nationale + (suspension OU injonction) \n",
    "Avant : le 5 juillet 2013 (exclus)\n",
    "Après : le 5 juillet 2013 (inclus)\n",
    "\n",
    "Pourcentage : administré + (suspension OU injonction) \n",
    "\n",
    "Pourcentage : Urgence = (Silence OU Inutile)\n",
    "\n",
    "Pourcentage : Urgence = OUI\n",
    "Pourcentage : Urgence = OUI + [Autre condition = Doute (non) OU Lib fonda (non)]\n",
    "\n",
    "\n",
    "#### Diagram\n",
    "Diagramme : avec pourcentage de réussite (Issue = suspension) SELON les espèces \n",
    "\n",
    "    Afficher le % : réussite (issue = Suspension) SI (Protection = Oui)\n",
    "\n",
    "    SI : Mort = Oui ALORS     Soit Euthanasie = Oui\n",
    "                Soit Chasse = Oui\n",
    "    SINON : Conditions de vie = Oui\n",
    "\n",
    "    SI (Sécurité = Oui OU Salubrité = Oui) 🡪 ALORS : Motif d’ordre public = Oui\n",
    "\n",
    "> Afficher un histogramme du nombre de décision par an (pour voir s’il y a une augmentation du contentieux.\n",
    "\n"
   ]
  },
  {
   "cell_type": "markdown",
   "metadata": {
    "colab_type": "text",
    "id": "ftcuCUkEvq--"
   },
   "source": [
    "# Connexion au drive "
   ]
  },
  {
   "cell_type": "code",
   "execution_count": 0,
   "metadata": {
    "colab": {
     "base_uri": "https://localhost:8080/",
     "height": 131
    },
    "colab_type": "code",
    "id": "RtiS3v7qxwxr",
    "outputId": "b80cceae-eaa0-46ef-9915-2c45709bd692"
   },
   "outputs": [
    {
     "name": "stdout",
     "output_type": "stream",
     "text": [
      "Go to this URL in a browser: https://accounts.google.com/o/oauth2/auth?client_id=947318989803-6bn6qk8qdgf4n4g3pfee6491hc0brc4i.apps.googleusercontent.com&redirect_uri=urn%3Aietf%3Awg%3Aoauth%3A2.0%3Aoob&scope=email%20https%3A%2F%2Fwww.googleapis.com%2Fauth%2Fdocs.test%20https%3A%2F%2Fwww.googleapis.com%2Fauth%2Fdrive%20https%3A%2F%2Fwww.googleapis.com%2Fauth%2Fdrive.photos.readonly%20https%3A%2F%2Fwww.googleapis.com%2Fauth%2Fpeopleapi.readonly&response_type=code\n",
      "\n",
      "Enter your authorization code:\n",
      "··········\n",
      "Mounted at /content/drive\n"
     ]
    }
   ],
   "source": [
    "from google.colab import drive\n",
    "drive.mount('/content/drive')"
   ]
  },
  {
   "cell_type": "code",
   "execution_count": 0,
   "metadata": {
    "colab": {
     "base_uri": "https://localhost:8080/",
     "height": 36
    },
    "colab_type": "code",
    "id": "1v6ZDIFpyHCa",
    "outputId": "92812685-0977-43d9-c410-760a94c9dba5"
   },
   "outputs": [
    {
     "name": "stdout",
     "output_type": "stream",
     "text": [
      "cat: '/content/drive/My Drive/foo.txt': No such file or directory\n"
     ]
    }
   ],
   "source": [
    "with open('/content/drive/My Drive/Colab Notebooks/Contentieux_Animal/DataSource/Data_contentieux.csv', 'w') as f:\n",
    "  f.write('Hello Google Drive!')\n",
    "!cat /content/drive/My\\ Drive/foo.txt"
   ]
  }
 ],
 "metadata": {
  "colab": {
   "include_colab_link": true,
   "name": "Animal_data_protocole.ipynb",
   "provenance": [],
   "toc_visible": true,
   "version": "0.3.2"
  },
  "kernelspec": {
   "display_name": "Python 3",
   "language": "python",
   "name": "python3"
  },
  "language_info": {
   "codemirror_mode": {
    "name": "ipython",
    "version": 3
   },
   "file_extension": ".py",
   "mimetype": "text/x-python",
   "name": "python",
   "nbconvert_exporter": "python",
   "pygments_lexer": "ipython3",
   "version": "3.7.2"
  }
 },
 "nbformat": 4,
 "nbformat_minor": 1
}
