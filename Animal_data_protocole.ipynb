{
  "nbformat": 4,
  "nbformat_minor": 0,
  "metadata": {
    "colab": {
      "name": "Animal_data_protocole.ipynb",
      "version": "0.3.2",
      "provenance": [],
      "toc_visible": true,
      "include_colab_link": true
    },
    "kernelspec": {
      "name": "python3",
      "display_name": "Python 3"
    }
  },
  "cells": [
    {
      "cell_type": "markdown",
      "metadata": {
        "id": "view-in-github",
        "colab_type": "text"
      },
      "source": [
        "<a href=\"https://colab.research.google.com/github/pierre56/ProtocoleData/blob/master/Animal_data_protocole.ipynb\" target=\"_parent\"><img src=\"https://colab.research.google.com/assets/colab-badge.svg\" alt=\"Open In Colab\"/></a>"
      ]
    },
    {
      "cell_type": "markdown",
      "metadata": {
        "id": "C9Ky_rmvv0kb",
        "colab_type": "text"
      },
      "source": [
        "# L'animal et le contentieux de l'urgance\n",
        "## Sous-titre\n",
        "\n"
      ]
    },
    {
      "cell_type": "markdown",
      "metadata": {
        "id": "cSQ5AQ7bvtdA",
        "colab_type": "text"
      },
      "source": [
        "## Liste des indicateurs à produire\n",
        "\n",
        "### Ce qu’il me faudrait :\n",
        "\n",
        "#### Pourcentage\n",
        "Pourcentage : association nationale + (suspension OU injonction) \n",
        "Avant : le 5 juillet 2013 (exclus)\n",
        "Après : le 5 juillet 2013 (inclus)\n",
        "\n",
        "Pourcentage : administré + (suspension OU injonction) \n",
        "\n",
        "Pourcentage : Urgence = (Silence OU Inutile)\n",
        "\n",
        "Pourcentage : Urgence = OUI\n",
        "Pourcentage : Urgence = OUI + [Autre condition = Doute (non) OU Lib fonda (non)]\n",
        "\n",
        "\n",
        "#### Diagram\n",
        "Diagramme : avec pourcentage de réussite (Issue = suspension) SELON les espèces \n",
        "\n",
        "    Afficher le % : réussite (issue = Suspension) SI (Protection = Oui)\n",
        "\n",
        "    SI : Mort = Oui ALORS     Soit Euthanasie = Oui\n",
        "                Soit Chasse = Oui\n",
        "    SINON : Conditions de vie = Oui\n",
        "\n",
        "    SI (Sécurité = Oui OU Salubrité = Oui) 🡪 ALORS : Motif d’ordre public = Oui\n",
        "\n",
        "> Afficher un histogramme du nombre de décision par an (pour voir s’il y a une augmentation du contentieux.\n",
        "\n"
      ]
    },
    {
      "cell_type": "markdown",
      "metadata": {
        "id": "ftcuCUkEvq--",
        "colab_type": "text"
      },
      "source": [
        "# Connexion au drive "
      ]
    },
    {
      "cell_type": "code",
      "metadata": {
        "id": "RtiS3v7qxwxr",
        "colab_type": "code",
        "outputId": "b80cceae-eaa0-46ef-9915-2c45709bd692",
        "colab": {
          "base_uri": "https://localhost:8080/",
          "height": 131
        }
      },
      "source": [
        "from google.colab import drive\n",
        "drive.mount('/content/drive')"
      ],
      "execution_count": 0,
      "outputs": [
        {
          "output_type": "stream",
          "text": [
            "Go to this URL in a browser: https://accounts.google.com/o/oauth2/auth?client_id=947318989803-6bn6qk8qdgf4n4g3pfee6491hc0brc4i.apps.googleusercontent.com&redirect_uri=urn%3Aietf%3Awg%3Aoauth%3A2.0%3Aoob&scope=email%20https%3A%2F%2Fwww.googleapis.com%2Fauth%2Fdocs.test%20https%3A%2F%2Fwww.googleapis.com%2Fauth%2Fdrive%20https%3A%2F%2Fwww.googleapis.com%2Fauth%2Fdrive.photos.readonly%20https%3A%2F%2Fwww.googleapis.com%2Fauth%2Fpeopleapi.readonly&response_type=code\n",
            "\n",
            "Enter your authorization code:\n",
            "··········\n",
            "Mounted at /content/drive\n"
          ],
          "name": "stdout"
        }
      ]
    },
    {
      "cell_type": "code",
      "metadata": {
        "id": "1v6ZDIFpyHCa",
        "colab_type": "code",
        "outputId": "92812685-0977-43d9-c410-760a94c9dba5",
        "colab": {
          "base_uri": "https://localhost:8080/",
          "height": 36
        }
      },
      "source": [
        "with open('/content/drive/My Drive/Colab Notebooks/Contentieux_Animal/DataSource/Data_contentieux.csv', 'w') as f:\n",
        "  f.write('Hello Google Drive!')\n",
        "!cat /content/drive/My\\ Drive/foo.txt"
      ],
      "execution_count": 0,
      "outputs": [
        {
          "output_type": "stream",
          "text": [
            "cat: '/content/drive/My Drive/foo.txt': No such file or directory\n"
          ],
          "name": "stdout"
        }
      ]
    }
  ]
}